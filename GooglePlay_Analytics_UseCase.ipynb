{
  "nbformat": 4,
  "nbformat_minor": 0,
  "metadata": {
    "colab": {
      "name": "Google_Analytics_UseCase.ipynb",
      "provenance": [],
      "collapsed_sections": [],
      "toc_visible": true
    },
    "kernelspec": {
      "name": "python3",
      "display_name": "Python 3"
    }
  },
  "cells": [
    {
      "cell_type": "markdown",
      "metadata": {
        "id": "6QsHB5pZpC3R",
        "colab_type": "text"
      },
      "source": [
        "## Mount Drive"
      ]
    },
    {
      "cell_type": "code",
      "metadata": {
        "id": "CGfecOiWlGhv",
        "colab_type": "code",
        "outputId": "b118c0e8-073b-4f84-adf8-5199623f1994",
        "colab": {
          "base_uri": "https://localhost:8080/",
          "height": 54
        }
      },
      "source": [
        "from google.colab import drive\n",
        "drive.mount('/content/drive')"
      ],
      "execution_count": 1,
      "outputs": [
        {
          "output_type": "stream",
          "text": [
            "Drive already mounted at /content/drive; to attempt to forcibly remount, call drive.mount(\"/content/drive\", force_remount=True).\n"
          ],
          "name": "stdout"
        }
      ]
    },
    {
      "cell_type": "markdown",
      "metadata": {
        "id": "ZwleK1SctR_w",
        "colab_type": "text"
      },
      "source": [
        "# Use Case 1"
      ]
    },
    {
      "cell_type": "markdown",
      "metadata": {
        "id": "xAXXpqF_pJGY",
        "colab_type": "text"
      },
      "source": [
        "## Loading Required Prequisities\n",
        "##### Note:  Need to run pip install play_scraper at the start of every session."
      ]
    },
    {
      "cell_type": "code",
      "metadata": {
        "id": "WVE2UR-ElPNx",
        "colab_type": "code",
        "outputId": "75ae9530-a2ec-4611-fdfe-94a8349e4eb7",
        "colab": {
          "base_uri": "https://localhost:8080/",
          "height": 275
        }
      },
      "source": [
        "import json\n",
        "import csv\n",
        "import glob, os\n",
        "import pandas as pd\n",
        "import numpy as np\n",
        "import seaborn as sns\n",
        "import matplotlib.pyplot as plt\n",
        "import matplotlib.gridspec as gridspec\n",
        "from functools import reduce\n",
        "import calendar\n",
        "from time import strptime\n",
        "! pip install play_scraper\n",
        "import play_scraper\n",
        "import warnings\n",
        "warnings.filterwarnings(\"ignore\")\n"
      ],
      "execution_count": 2,
      "outputs": [
        {
          "output_type": "stream",
          "text": [
            "Requirement already satisfied: play_scraper in /usr/local/lib/python3.6/dist-packages (0.6.0)\n",
            "Requirement already satisfied: requests[security]>=2.20.0 in /usr/local/lib/python3.6/dist-packages (from play_scraper) (2.21.0)\n",
            "Requirement already satisfied: lxml>=4.2.4 in /usr/local/lib/python3.6/dist-packages (from play_scraper) (4.2.6)\n",
            "Requirement already satisfied: beautifulsoup4>=4.6.1 in /usr/local/lib/python3.6/dist-packages (from play_scraper) (4.6.3)\n",
            "Requirement already satisfied: requests-futures>=0.9.7 in /usr/local/lib/python3.6/dist-packages (from play_scraper) (1.0.0)\n",
            "Requirement already satisfied: idna<2.9,>=2.5 in /usr/local/lib/python3.6/dist-packages (from requests[security]>=2.20.0->play_scraper) (2.8)\n",
            "Requirement already satisfied: certifi>=2017.4.17 in /usr/local/lib/python3.6/dist-packages (from requests[security]>=2.20.0->play_scraper) (2019.11.28)\n",
            "Requirement already satisfied: chardet<3.1.0,>=3.0.2 in /usr/local/lib/python3.6/dist-packages (from requests[security]>=2.20.0->play_scraper) (3.0.4)\n",
            "Requirement already satisfied: urllib3<1.25,>=1.21.1 in /usr/local/lib/python3.6/dist-packages (from requests[security]>=2.20.0->play_scraper) (1.24.3)\n",
            "Requirement already satisfied: cryptography>=1.3.4; extra == \"security\" in /usr/local/lib/python3.6/dist-packages (from requests[security]>=2.20.0->play_scraper) (2.8)\n",
            "Requirement already satisfied: pyOpenSSL>=0.14; extra == \"security\" in /usr/local/lib/python3.6/dist-packages (from requests[security]>=2.20.0->play_scraper) (19.1.0)\n",
            "Requirement already satisfied: cffi!=1.11.3,>=1.8 in /usr/local/lib/python3.6/dist-packages (from cryptography>=1.3.4; extra == \"security\"->requests[security]>=2.20.0->play_scraper) (1.14.0)\n",
            "Requirement already satisfied: six>=1.4.1 in /usr/local/lib/python3.6/dist-packages (from cryptography>=1.3.4; extra == \"security\"->requests[security]>=2.20.0->play_scraper) (1.12.0)\n",
            "Requirement already satisfied: pycparser in /usr/local/lib/python3.6/dist-packages (from cffi!=1.11.3,>=1.8->cryptography>=1.3.4; extra == \"security\"->requests[security]>=2.20.0->play_scraper) (2.20)\n"
          ],
          "name": "stdout"
        }
      ]
    },
    {
      "cell_type": "markdown",
      "metadata": {
        "id": "VXhwhkTWpd-6",
        "colab_type": "text"
      },
      "source": [
        "## Load the required JSON Files for analyses"
      ]
    },
    {
      "cell_type": "code",
      "metadata": {
        "id": "uyyQ7Og_lTBy",
        "colab_type": "code",
        "outputId": "dc27ea82-1825-4814-8868-3ba2a2eccc49",
        "colab": {
          "base_uri": "https://localhost:8080/",
          "height": 136
        }
      },
      "source": [
        "fileName1 = ('/content/drive/My Drive/DataFiles/Google Play Store/Devices.json')\n",
        "with open(fileName1, 'r', encoding='utf8', errors='ignore') as f1:\n",
        "    Devicesfile = json.load(f1)\n",
        "    print('Devices file loaded successfully.')\n",
        "fileName2 = ('/content/drive/My Drive/DataFiles/Google Play Store/Installs.json')\n",
        "with open(fileName2, 'r', encoding='utf8', errors='ignore') as f2:\n",
        "    Installs = json.load(f2)\n",
        "    print('Install file loaded successfully.')\n",
        "fileName3 = ('/content/drive/My Drive/DataFiles/Google Play Store/Library.json')\n",
        "with open(fileName3, 'r', encoding='utf8', errors='ignore') as f3:\n",
        "    Library = json.load(f3)\n",
        "    print('Library loaded successfully')\n",
        "fileName5 = ('/content/drive/My Drive/DataFiles/Google Play Store/Play Settings.json')\n",
        "with open(fileName5, 'r', encoding='utf8', errors='ignore') as f5:\n",
        "    PlaySettings = json.load(f5)\n",
        "    print('Play Settings loaded successfully.')\n",
        "fileName6 = ('/content/drive/My Drive/DataFiles/Google Play Store/Purchase History.json')\n",
        "with open(fileName6, 'r', encoding='utf8', errors='ignore') as f6:\n",
        "    PurchaseHistory = json.load(f6)\n",
        "    print('Purchase History loaded successfully')\n",
        "fileName7 = ('/content/drive/My Drive/DataFiles/Google Play Store/Reviews.json')    \n",
        "with open(fileName7, 'r', encoding='utf8', errors='ignore') as f7:\n",
        "    Reviews = json.load(f7)\n",
        "    print('Reviews file loaded successfully')"
      ],
      "execution_count": 3,
      "outputs": [
        {
          "output_type": "stream",
          "text": [
            "Devices file loaded successfully.\n",
            "Install file loaded successfully.\n",
            "Library loaded successfully\n",
            "Order history loaded successfully.\n",
            "Play Settings loaded successfully.\n",
            "Purchase History loaded successfully\n",
            "Reviews file loaded successfully\n"
          ],
          "name": "stdout"
        }
      ]
    },
    {
      "cell_type": "markdown",
      "metadata": {
        "id": "6Wem8v8SYhLf",
        "colab_type": "text"
      },
      "source": [
        "#### Set the user name and time format\n",
        "Also check for existing data"
      ]
    },
    {
      "cell_type": "code",
      "metadata": {
        "id": "Dwvurx8VXstK",
        "colab_type": "code",
        "outputId": "59589e2f-7d52-4a0c-80f5-02436172cea3",
        "colab": {
          "base_uri": "https://localhost:8080/",
          "height": 34
        }
      },
      "source": [
        "Name = 'Dipro'\n",
        "format ='%Y-%m-%d %H:%M:%S'\n",
        "df_loaded_final = pd.DataFrame()\n",
        "found = 0;\n",
        "if glob.glob(f\"/content/drive/My Drive/DataFiles/Google Play Store/Dataframe_GooglePlay_{Name}.csv\"):\n",
        "    found =1;\n",
        "    print(\"Found\")\n",
        "    df_loaded_final = pd.read_csv(f\"/content/drive/My Drive/DataFiles/Google Play Store/Dataframe_GooglePlay_{Name}.csv\",  parse_dates=['AcquistionTime'])\n",
        "    \n",
        "    MaxAppID = df_loaded_final['App_ID'].max()\n",
        "    MaxAcqTime=df_loaded_final['AcquistionTime'].max()"
      ],
      "execution_count": 4,
      "outputs": [
        {
          "output_type": "stream",
          "text": [
            "Found\n"
          ],
          "name": "stdout"
        }
      ]
    },
    {
      "cell_type": "markdown",
      "metadata": {
        "id": "gCRyLAj2YVq6",
        "colab_type": "text"
      },
      "source": [
        "## Devices used"
      ]
    },
    {
      "cell_type": "code",
      "metadata": {
        "id": "ZSy41-gQXtZ3",
        "colab_type": "code",
        "outputId": "a3edfdf8-6e35-4523-cbbb-59a1171795cd",
        "colab": {
          "base_uri": "https://localhost:8080/",
          "height": 80
        }
      },
      "source": [
        "deviceRegistrationTime = []\n",
        "lastActive = [] \n",
        "Device_Manufacturer = []\n",
        "Device_modelName = []\n",
        "Device_carrierName = []\n",
        "Device_IPCountry = []\n",
        "\n",
        "for i in range(len(Devicesfile)):\n",
        "    dictcol_recent = pd.DataFrame(Devicesfile[i].get('device').get('mostRecentData'))\n",
        "    dictcol_recent = dictcol_recent.groupby(dictcol_recent.columns.difference(['nativePlatform']).tolist()).agg(lambda x: tuple(x)).applymap(list).reset_index()\n",
        "    #dictcol_recent.columns = [str(col) + '_mostrecent' for col in dictcol_recent.columns]\n",
        "    dictcol_recent = dictcol_recent.T\n",
        "    dictcol_datalast = pd.DataFrame(Devicesfile[i].get('device').get('dataAtTimeOfUserPlayActivity'))\n",
        "    dictcol_datalast = dictcol_datalast.groupby(dictcol_datalast.columns.difference(['nativePlatform']).tolist()).agg(lambda x: tuple(x)).applymap(list).reset_index()\n",
        "    #dictcol_datalast.columns = [str(col) + '_datalastused' for col in dictcol_datalast.columns]\n",
        "    dictcol_datalast = dictcol_datalast.T\n",
        "    deviceRegistrationTime.append(pd.to_datetime(Devicesfile[i].get('device').get('deviceRegistrationTime'),format=format))\n",
        "    lastActive.append(pd.to_datetime(Devicesfile[i].get('device').get('lastTimeDeviceActive'),format=format))\n",
        "    \n",
        "        \n",
        "    Device_Manufacturer.append(Devicesfile[i].get('device').get('mostRecentData').get('manufacturer'))\n",
        "    Device_modelName.append(Devicesfile[i].get('device').get('mostRecentData').get('modelName'))\n",
        "    Device_carrierName.append(Devicesfile[i].get('device').get('mostRecentData').get('carrierName'))\n",
        "    Device_IPCountry.append(Devicesfile[i].get('device').get('mostRecentData').get('deviceIpCountry'))\n",
        "    \n",
        "df_devices = pd.DataFrame(list(zip(Device_Manufacturer, Device_modelName, Device_carrierName, Device_IPCountry, deviceRegistrationTime, lastActive)), \n",
        "               columns =['Device_Manufacturer', 'ModelName', 'CarrierName', 'IPCountry', 'RegistrationTime', 'LastActive']) \n",
        "df_devices.head(2)"
      ],
      "execution_count": 5,
      "outputs": [
        {
          "output_type": "execute_result",
          "data": {
            "text/html": [
              "<div>\n",
              "<style scoped>\n",
              "    .dataframe tbody tr th:only-of-type {\n",
              "        vertical-align: middle;\n",
              "    }\n",
              "\n",
              "    .dataframe tbody tr th {\n",
              "        vertical-align: top;\n",
              "    }\n",
              "\n",
              "    .dataframe thead th {\n",
              "        text-align: right;\n",
              "    }\n",
              "</style>\n",
              "<table border=\"1\" class=\"dataframe\">\n",
              "  <thead>\n",
              "    <tr style=\"text-align: right;\">\n",
              "      <th></th>\n",
              "      <th>Device_Manufacturer</th>\n",
              "      <th>ModelName</th>\n",
              "      <th>CarrierName</th>\n",
              "      <th>IPCountry</th>\n",
              "      <th>RegistrationTime</th>\n",
              "      <th>LastActive</th>\n",
              "    </tr>\n",
              "  </thead>\n",
              "  <tbody>\n",
              "    <tr>\n",
              "      <th>0</th>\n",
              "      <td>Xiaomi</td>\n",
              "      <td>Redmi Note 4</td>\n",
              "      <td>KPN/Telfort</td>\n",
              "      <td>NL</td>\n",
              "      <td>2017-05-05 12:04:27.501000+00:00</td>\n",
              "      <td>2019-10-14 21:26:59.002959+00:00</td>\n",
              "    </tr>\n",
              "  </tbody>\n",
              "</table>\n",
              "</div>"
            ],
            "text/plain": [
              "  Device_Manufacturer  ...                       LastActive\n",
              "0              Xiaomi  ... 2019-10-14 21:26:59.002959+00:00\n",
              "\n",
              "[1 rows x 6 columns]"
            ]
          },
          "metadata": {
            "tags": []
          },
          "execution_count": 5
        }
      ]
    },
    {
      "cell_type": "markdown",
      "metadata": {
        "id": "rCmFeY4pZpWT",
        "colab_type": "text"
      },
      "source": [
        "## Device Installs Data"
      ]
    },
    {
      "cell_type": "code",
      "metadata": {
        "id": "EFcLAv8hZutX",
        "colab_type": "code",
        "outputId": "3b519355-dcd5-438a-bf5b-c4b99dba60f7",
        "colab": {
          "base_uri": "https://localhost:8080/",
          "height": 204
        }
      },
      "source": [
        "Title = []\n",
        "Type = []\n",
        "FirstInstall = []\n",
        "LastUpdate = []\n",
        "for i in range(len(Installs)):\n",
        "    Title.append(Installs[i].get('install').get('doc').get('title'))\n",
        "    Type.append(Installs[i].get('install').get('doc').get('documentType'))\n",
        "    FirstInstall.append(pd.to_datetime(Installs[i].get('install').get('firstInstallationTime'),format=format))\n",
        "    LastUpdate.append(pd.to_datetime(Installs[i].get('install').get('lastUpdateTime'),format=format))\n",
        "    \n",
        "df_installs = pd.DataFrame(list(zip(Title, Type, FirstInstall, LastUpdate)), \n",
        "               columns =['Title', 'Type', 'FirstInstallTime', 'LastUpdate']) \n",
        "df_installs.head(5)"
      ],
      "execution_count": 6,
      "outputs": [
        {
          "output_type": "execute_result",
          "data": {
            "text/html": [
              "<div>\n",
              "<style scoped>\n",
              "    .dataframe tbody tr th:only-of-type {\n",
              "        vertical-align: middle;\n",
              "    }\n",
              "\n",
              "    .dataframe tbody tr th {\n",
              "        vertical-align: top;\n",
              "    }\n",
              "\n",
              "    .dataframe thead th {\n",
              "        text-align: right;\n",
              "    }\n",
              "</style>\n",
              "<table border=\"1\" class=\"dataframe\">\n",
              "  <thead>\n",
              "    <tr style=\"text-align: right;\">\n",
              "      <th></th>\n",
              "      <th>Title</th>\n",
              "      <th>Type</th>\n",
              "      <th>FirstInstallTime</th>\n",
              "      <th>LastUpdate</th>\n",
              "    </tr>\n",
              "  </thead>\n",
              "  <tbody>\n",
              "    <tr>\n",
              "      <th>0</th>\n",
              "      <td>Facebook</td>\n",
              "      <td>Android Apps</td>\n",
              "      <td>2016-12-21 13:51:14.260000+00:00</td>\n",
              "      <td>2016-12-21 13:51:14.260000+00:00</td>\n",
              "    </tr>\n",
              "    <tr>\n",
              "      <th>1</th>\n",
              "      <td>Facebook</td>\n",
              "      <td>Android Apps</td>\n",
              "      <td>2016-07-31 08:18:34.569000+00:00</td>\n",
              "      <td>2016-12-16 03:06:49.710000+00:00</td>\n",
              "    </tr>\n",
              "    <tr>\n",
              "      <th>2</th>\n",
              "      <td>Facebook</td>\n",
              "      <td>Android Apps</td>\n",
              "      <td>2016-07-29 08:24:05.982000+00:00</td>\n",
              "      <td>2016-07-29 08:24:05.982000+00:00</td>\n",
              "    </tr>\n",
              "    <tr>\n",
              "      <th>3</th>\n",
              "      <td>Google Play Books - Ebooks, Audiobooks, and Co...</td>\n",
              "      <td>Android Apps</td>\n",
              "      <td>2016-12-21 13:51:14.260000+00:00</td>\n",
              "      <td>2016-12-21 13:51:14.260000+00:00</td>\n",
              "    </tr>\n",
              "    <tr>\n",
              "      <th>4</th>\n",
              "      <td>Google Play Books - Ebooks, Audiobooks, and Co...</td>\n",
              "      <td>Android Apps</td>\n",
              "      <td>2016-07-31 08:18:34.569000+00:00</td>\n",
              "      <td>2016-12-16 03:06:49.710000+00:00</td>\n",
              "    </tr>\n",
              "  </tbody>\n",
              "</table>\n",
              "</div>"
            ],
            "text/plain": [
              "                                               Title  ...                       LastUpdate\n",
              "0                                           Facebook  ... 2016-12-21 13:51:14.260000+00:00\n",
              "1                                           Facebook  ... 2016-12-16 03:06:49.710000+00:00\n",
              "2                                           Facebook  ... 2016-07-29 08:24:05.982000+00:00\n",
              "3  Google Play Books - Ebooks, Audiobooks, and Co...  ... 2016-12-21 13:51:14.260000+00:00\n",
              "4  Google Play Books - Ebooks, Audiobooks, and Co...  ... 2016-12-16 03:06:49.710000+00:00\n",
              "\n",
              "[5 rows x 4 columns]"
            ]
          },
          "metadata": {
            "tags": []
          },
          "execution_count": 6
        }
      ]
    },
    {
      "cell_type": "markdown",
      "metadata": {
        "id": "yz5TQRh3Z011",
        "colab_type": "text"
      },
      "source": [
        "## Library of apps used by the person"
      ]
    },
    {
      "cell_type": "code",
      "metadata": {
        "id": "xQDj_no5ZziM",
        "colab_type": "code",
        "outputId": "271dd54e-1e1b-49b6-dd86-601558dc66b1",
        "colab": {
          "base_uri": "https://localhost:8080/",
          "height": 204
        }
      },
      "source": [
        "Type=[]\n",
        "Title = []\n",
        "AcquisitionTime=[]\n",
        "\n",
        "for i in range(len(Library)):\n",
        "    dummy_variable_1 = Library[i].get('libraryDoc')\n",
        "    Type.append(dummy_variable_1.get('doc').get('documentType'))\n",
        "    Title.append(dummy_variable_1.get('doc').get('title'))\n",
        "    AcquisitionTime.append(pd.to_datetime(dummy_variable_1.get('acquisitionTime'),format=format))\n",
        "\n",
        "df_Library = pd.DataFrame(list(zip(Type, Title, AcquisitionTime)), \n",
        "               columns =['Type', 'Title', 'AcquistionTime']) \n",
        "df_Library.head(5)"
      ],
      "execution_count": 7,
      "outputs": [
        {
          "output_type": "execute_result",
          "data": {
            "text/html": [
              "<div>\n",
              "<style scoped>\n",
              "    .dataframe tbody tr th:only-of-type {\n",
              "        vertical-align: middle;\n",
              "    }\n",
              "\n",
              "    .dataframe tbody tr th {\n",
              "        vertical-align: top;\n",
              "    }\n",
              "\n",
              "    .dataframe thead th {\n",
              "        text-align: right;\n",
              "    }\n",
              "</style>\n",
              "<table border=\"1\" class=\"dataframe\">\n",
              "  <thead>\n",
              "    <tr style=\"text-align: right;\">\n",
              "      <th></th>\n",
              "      <th>Type</th>\n",
              "      <th>Title</th>\n",
              "      <th>AcquistionTime</th>\n",
              "    </tr>\n",
              "  </thead>\n",
              "  <tbody>\n",
              "    <tr>\n",
              "      <th>0</th>\n",
              "      <td>Android Apps</td>\n",
              "      <td>Ladooo – Get Free Recharge App</td>\n",
              "      <td>2016-07-31 09:03:38.391000+00:00</td>\n",
              "    </tr>\n",
              "    <tr>\n",
              "      <th>1</th>\n",
              "      <td>Android Apps</td>\n",
              "      <td>Google+ for G Suite</td>\n",
              "      <td>2016-09-02 01:20:48.818000+00:00</td>\n",
              "    </tr>\n",
              "    <tr>\n",
              "      <th>2</th>\n",
              "      <td>Android Apps</td>\n",
              "      <td>MTK Engineering Mode</td>\n",
              "      <td>2016-09-07 15:37:09.814000+00:00</td>\n",
              "    </tr>\n",
              "    <tr>\n",
              "      <th>3</th>\n",
              "      <td>Android Apps</td>\n",
              "      <td>Google Play services</td>\n",
              "      <td>2016-10-04 09:26:35.220000+00:00</td>\n",
              "    </tr>\n",
              "    <tr>\n",
              "      <th>4</th>\n",
              "      <td>Android Apps</td>\n",
              "      <td>Xorware 2G/3G/4G Switcher</td>\n",
              "      <td>2016-10-24 07:54:53.434000+00:00</td>\n",
              "    </tr>\n",
              "  </tbody>\n",
              "</table>\n",
              "</div>"
            ],
            "text/plain": [
              "           Type  ...                   AcquistionTime\n",
              "0  Android Apps  ... 2016-07-31 09:03:38.391000+00:00\n",
              "1  Android Apps  ... 2016-09-02 01:20:48.818000+00:00\n",
              "2  Android Apps  ... 2016-09-07 15:37:09.814000+00:00\n",
              "3  Android Apps  ... 2016-10-04 09:26:35.220000+00:00\n",
              "4  Android Apps  ... 2016-10-24 07:54:53.434000+00:00\n",
              "\n",
              "[5 rows x 3 columns]"
            ]
          },
          "metadata": {
            "tags": []
          },
          "execution_count": 7
        }
      ]
    },
    {
      "cell_type": "markdown",
      "metadata": {
        "id": "0yLxS7iGaOs8",
        "colab_type": "text"
      },
      "source": [
        "## Purchase History "
      ]
    },
    {
      "cell_type": "code",
      "metadata": {
        "id": "yVP8wpQZaSyN",
        "colab_type": "code",
        "outputId": "c9d75254-cb75-495b-d82f-e654fa9098d4",
        "colab": {
          "base_uri": "https://localhost:8080/",
          "height": 142
        }
      },
      "source": [
        "PurchaseHistory\n",
        "itemTitle=[]\n",
        "Method = []\n",
        "invoicePrice = []\n",
        "PurchaseTime = []\n",
        "for i in range(len(PurchaseHistory)):\n",
        "    dummy_purchase = PurchaseHistory[i].get('purchaseHistory')\n",
        "    itemTitle.append(dummy_purchase.get('doc').get('title'))\n",
        "    invoicePrice.append(dummy_purchase.get('invoicePrice'))\n",
        "    PurchaseTime.append(pd.to_datetime(dummy_purchase.get('purchaseTime'),format=format))\n",
        "    Method.append(dummy_purchase.get('paymentMethodTitle'))\n",
        "df_Purchase = pd.DataFrame(list(zip(itemTitle, Method, invoicePrice, PurchaseTime)), \n",
        "               columns =['Title', 'Method','invoicePrice', 'PurchaseTime']) \n",
        "\n",
        "df_Purchase.head(3)   "
      ],
      "execution_count": 8,
      "outputs": [
        {
          "output_type": "execute_result",
          "data": {
            "text/html": [
              "<div>\n",
              "<style scoped>\n",
              "    .dataframe tbody tr th:only-of-type {\n",
              "        vertical-align: middle;\n",
              "    }\n",
              "\n",
              "    .dataframe tbody tr th {\n",
              "        vertical-align: top;\n",
              "    }\n",
              "\n",
              "    .dataframe thead th {\n",
              "        text-align: right;\n",
              "    }\n",
              "</style>\n",
              "<table border=\"1\" class=\"dataframe\">\n",
              "  <thead>\n",
              "    <tr style=\"text-align: right;\">\n",
              "      <th></th>\n",
              "      <th>Title</th>\n",
              "      <th>Method</th>\n",
              "      <th>invoicePrice</th>\n",
              "      <th>PurchaseTime</th>\n",
              "    </tr>\n",
              "  </thead>\n",
              "  <tbody>\n",
              "    <tr>\n",
              "      <th>0</th>\n",
              "      <td>Space Shooter: Alien vs Galaxy Attack (Premium)</td>\n",
              "      <td></td>\n",
              "      <td>€0.00</td>\n",
              "      <td>2019-08-07 01:49:24.553000+00:00</td>\n",
              "    </tr>\n",
              "    <tr>\n",
              "      <th>1</th>\n",
              "      <td>Unknown Item</td>\n",
              "      <td></td>\n",
              "      <td>₹0.00</td>\n",
              "      <td>2018-11-24 20:24:34.332000+00:00</td>\n",
              "    </tr>\n",
              "    <tr>\n",
              "      <th>2</th>\n",
              "      <td>Where's My Water?</td>\n",
              "      <td>Google Play balance: ₹ 10.99</td>\n",
              "      <td>₹10.00</td>\n",
              "      <td>2017-10-11 11:17:23.867000+00:00</td>\n",
              "    </tr>\n",
              "  </tbody>\n",
              "</table>\n",
              "</div>"
            ],
            "text/plain": [
              "                                             Title  ...                     PurchaseTime\n",
              "0  Space Shooter: Alien vs Galaxy Attack (Premium)  ... 2019-08-07 01:49:24.553000+00:00\n",
              "1                                     Unknown Item  ... 2018-11-24 20:24:34.332000+00:00\n",
              "2                                Where's My Water?  ... 2017-10-11 11:17:23.867000+00:00\n",
              "\n",
              "[3 rows x 4 columns]"
            ]
          },
          "metadata": {
            "tags": []
          },
          "execution_count": 8
        }
      ]
    },
    {
      "cell_type": "code",
      "metadata": {
        "id": "ZYsu5wTpagud",
        "colab_type": "code",
        "outputId": "6c921e3e-3aac-4118-ed8a-ccd1d453ba20",
        "colab": {
          "base_uri": "https://localhost:8080/",
          "height": 102
        }
      },
      "source": [
        "print('Total Amount Spent:')\n",
        "dummy = df_Purchase.invoicePrice.str.split('(\\d+.\\d+)',expand = True)\n",
        "dummy.columns = ['Currency','Amount', 'None']\n",
        "dummy.drop('None',axis =1, inplace=True)\n",
        "dummy.Amount = dummy.Amount.astype(float)\n",
        "dummy = dummy.groupby(['Currency']).sum()#.transform('sum')\n",
        "print(dummy)"
      ],
      "execution_count": 9,
      "outputs": [
        {
          "output_type": "stream",
          "text": [
            "Total Amount Spent:\n",
            "          Amount\n",
            "Currency        \n",
            "€            0.0\n",
            "₹           10.0\n"
          ],
          "name": "stdout"
        }
      ]
    },
    {
      "cell_type": "code",
      "metadata": {
        "id": "dfJAkJDfm8gU",
        "colab_type": "code",
        "outputId": "298575f4-2381-46f0-95a6-217e89770a7f",
        "colab": {
          "base_uri": "https://localhost:8080/",
          "height": 204
        }
      },
      "source": [
        "Type=[]\n",
        "Title = []\n",
        "AcquisitionTime=[]\n",
        "\n",
        "for i in range(len(Library)):\n",
        "    dummy_variable_1 = Library[i].get('libraryDoc')\n",
        "    Type.append(dummy_variable_1.get('doc').get('documentType'))\n",
        "    Title.append(dummy_variable_1.get('doc').get('title'))\n",
        "    AcquisitionTime.append(pd.to_datetime(dummy_variable_1.get('acquisitionTime'),format=format))\n",
        "\n",
        "df_Library = pd.DataFrame(list(zip(Type, Title, AcquisitionTime)), \n",
        "               columns =['Type', 'Title', 'AcquistionTime']) \n",
        "df_Library.head()"
      ],
      "execution_count": 10,
      "outputs": [
        {
          "output_type": "execute_result",
          "data": {
            "text/html": [
              "<div>\n",
              "<style scoped>\n",
              "    .dataframe tbody tr th:only-of-type {\n",
              "        vertical-align: middle;\n",
              "    }\n",
              "\n",
              "    .dataframe tbody tr th {\n",
              "        vertical-align: top;\n",
              "    }\n",
              "\n",
              "    .dataframe thead th {\n",
              "        text-align: right;\n",
              "    }\n",
              "</style>\n",
              "<table border=\"1\" class=\"dataframe\">\n",
              "  <thead>\n",
              "    <tr style=\"text-align: right;\">\n",
              "      <th></th>\n",
              "      <th>Type</th>\n",
              "      <th>Title</th>\n",
              "      <th>AcquistionTime</th>\n",
              "    </tr>\n",
              "  </thead>\n",
              "  <tbody>\n",
              "    <tr>\n",
              "      <th>0</th>\n",
              "      <td>Android Apps</td>\n",
              "      <td>Ladooo – Get Free Recharge App</td>\n",
              "      <td>2016-07-31 09:03:38.391000+00:00</td>\n",
              "    </tr>\n",
              "    <tr>\n",
              "      <th>1</th>\n",
              "      <td>Android Apps</td>\n",
              "      <td>Google+ for G Suite</td>\n",
              "      <td>2016-09-02 01:20:48.818000+00:00</td>\n",
              "    </tr>\n",
              "    <tr>\n",
              "      <th>2</th>\n",
              "      <td>Android Apps</td>\n",
              "      <td>MTK Engineering Mode</td>\n",
              "      <td>2016-09-07 15:37:09.814000+00:00</td>\n",
              "    </tr>\n",
              "    <tr>\n",
              "      <th>3</th>\n",
              "      <td>Android Apps</td>\n",
              "      <td>Google Play services</td>\n",
              "      <td>2016-10-04 09:26:35.220000+00:00</td>\n",
              "    </tr>\n",
              "    <tr>\n",
              "      <th>4</th>\n",
              "      <td>Android Apps</td>\n",
              "      <td>Xorware 2G/3G/4G Switcher</td>\n",
              "      <td>2016-10-24 07:54:53.434000+00:00</td>\n",
              "    </tr>\n",
              "  </tbody>\n",
              "</table>\n",
              "</div>"
            ],
            "text/plain": [
              "           Type  ...                   AcquistionTime\n",
              "0  Android Apps  ... 2016-07-31 09:03:38.391000+00:00\n",
              "1  Android Apps  ... 2016-09-02 01:20:48.818000+00:00\n",
              "2  Android Apps  ... 2016-09-07 15:37:09.814000+00:00\n",
              "3  Android Apps  ... 2016-10-04 09:26:35.220000+00:00\n",
              "4  Android Apps  ... 2016-10-24 07:54:53.434000+00:00\n",
              "\n",
              "[5 rows x 3 columns]"
            ]
          },
          "metadata": {
            "tags": []
          },
          "execution_count": 10
        }
      ]
    },
    {
      "cell_type": "markdown",
      "metadata": {
        "id": "5a4ix4Z6alDo",
        "colab_type": "text"
      },
      "source": [
        "## PlaySettings (contains basic information about the user settings -like preregistered apps)"
      ]
    },
    {
      "cell_type": "code",
      "metadata": {
        "id": "cZWXjllKax7o",
        "colab_type": "code",
        "outputId": "f24b601d-e498-454b-91dd-b9eaf0585f53",
        "colab": {
          "base_uri": "https://localhost:8080/",
          "height": 85
        }
      },
      "source": [
        "PlaySettings"
      ],
      "execution_count": 11,
      "outputs": [
        {
          "output_type": "execute_result",
          "data": {
            "text/plain": [
              "[{'userSetting': {'preregistrationListItem': {'doc': {'documentType': 'Android Apps',\n",
              "     'title': 'Diablo Immortal'}}}},\n",
              " {'userSetting': {'receivePlayMarketingEmail': False,\n",
              "   'userCountryCode': 'NL'}}]"
            ]
          },
          "metadata": {
            "tags": []
          },
          "execution_count": 11
        }
      ]
    },
    {
      "cell_type": "markdown",
      "metadata": {
        "id": "HDMjPuara00z",
        "colab_type": "text"
      },
      "source": [
        "## Reviewed by the user"
      ]
    },
    {
      "cell_type": "code",
      "metadata": {
        "id": "wtfZoK8Ha4Xp",
        "colab_type": "code",
        "outputId": "541cb82b-5de6-4fb8-a2dc-af21e79f5217",
        "colab": {
          "base_uri": "https://localhost:8080/",
          "height": 142
        }
      },
      "source": [
        "itemTitle = []\n",
        "StarRating =[]\n",
        "ReviewedTime=[]\n",
        "\n",
        "for i in range (len(Reviews)):\n",
        "    dummy_review = Reviews[i].get('review')\n",
        "    itemTitle.append(dummy_review.get('document').get('title'))\n",
        "    ReviewedTime.append(pd.to_datetime(dummy_review.get('creationTime'),format=format))\n",
        "    StarRating.append(dummy_review.get('starRating'))\n",
        "\n",
        "df_Reviews = pd.DataFrame(list(zip( itemTitle,StarRating, ReviewedTime)), \n",
        "               columns =['Title', 'StarRating', 'ReviewedTime'])  \n",
        "df_Reviews.head(3)"
      ],
      "execution_count": 12,
      "outputs": [
        {
          "output_type": "execute_result",
          "data": {
            "text/html": [
              "<div>\n",
              "<style scoped>\n",
              "    .dataframe tbody tr th:only-of-type {\n",
              "        vertical-align: middle;\n",
              "    }\n",
              "\n",
              "    .dataframe tbody tr th {\n",
              "        vertical-align: top;\n",
              "    }\n",
              "\n",
              "    .dataframe thead th {\n",
              "        text-align: right;\n",
              "    }\n",
              "</style>\n",
              "<table border=\"1\" class=\"dataframe\">\n",
              "  <thead>\n",
              "    <tr style=\"text-align: right;\">\n",
              "      <th></th>\n",
              "      <th>Title</th>\n",
              "      <th>StarRating</th>\n",
              "      <th>ReviewedTime</th>\n",
              "    </tr>\n",
              "  </thead>\n",
              "  <tbody>\n",
              "    <tr>\n",
              "      <th>0</th>\n",
              "      <td>War Machines: Free Multiplayer Tank Shooting G...</td>\n",
              "      <td>5</td>\n",
              "      <td>2019-08-19 09:40:15.809000+00:00</td>\n",
              "    </tr>\n",
              "    <tr>\n",
              "      <th>1</th>\n",
              "      <td>Kick the Buddy: Forever</td>\n",
              "      <td>5</td>\n",
              "      <td>2019-08-07 13:11:17.449000+00:00</td>\n",
              "    </tr>\n",
              "    <tr>\n",
              "      <th>2</th>\n",
              "      <td>Shop Titans: Epic Idle Crafter, Build &amp; Trade RPG</td>\n",
              "      <td>5</td>\n",
              "      <td>2019-07-03 22:10:41.272000+00:00</td>\n",
              "    </tr>\n",
              "  </tbody>\n",
              "</table>\n",
              "</div>"
            ],
            "text/plain": [
              "                                               Title  ...                     ReviewedTime\n",
              "0  War Machines: Free Multiplayer Tank Shooting G...  ... 2019-08-19 09:40:15.809000+00:00\n",
              "1                            Kick the Buddy: Forever  ... 2019-08-07 13:11:17.449000+00:00\n",
              "2  Shop Titans: Epic Idle Crafter, Build & Trade RPG  ... 2019-07-03 22:10:41.272000+00:00\n",
              "\n",
              "[3 rows x 3 columns]"
            ]
          },
          "metadata": {
            "tags": []
          },
          "execution_count": 12
        }
      ]
    },
    {
      "cell_type": "code",
      "metadata": {
        "id": "oA86V9oAbGov",
        "colab_type": "code",
        "outputId": "dee20552-dc37-488d-d726-5ae143e84742",
        "colab": {
          "base_uri": "https://localhost:8080/",
          "height": 68
        }
      },
      "source": [
        "df_Reviews.StarRating.value_counts()"
      ],
      "execution_count": 13,
      "outputs": [
        {
          "output_type": "execute_result",
          "data": {
            "text/plain": [
              "5    6\n",
              "4    2\n",
              "Name: StarRating, dtype: int64"
            ]
          },
          "metadata": {
            "tags": []
          },
          "execution_count": 13
        }
      ]
    },
    {
      "cell_type": "markdown",
      "metadata": {
        "id": "qGIxGNb6a_hm",
        "colab_type": "text"
      },
      "source": [
        "### Dataframe for final data analyses"
      ]
    },
    {
      "cell_type": "code",
      "metadata": {
        "id": "LGSOv1B0a-VM",
        "colab_type": "code",
        "outputId": "b00e2d24-4615-486a-ddf2-292e6000859c",
        "colab": {
          "base_uri": "https://localhost:8080/",
          "height": 233
        }
      },
      "source": [
        "df_s = [df_Library, df_Purchase, df_Reviews]\n",
        "df_final = reduce(lambda  left,right: pd.merge(left,right,on=['Title'],\n",
        "                                            how='outer'), df_s).fillna('NaN')\n",
        "for i in range(len(df_final)):\n",
        "    if df_final.AcquistionTime[i]=='NaN':\n",
        "        df_final.AcquistionTime[i] = df_final.ReviewedTime[i]\n",
        "\n",
        "df_final = df_final.dropna(subset=['AcquistionTime'])\n",
        "#df_final.AcquistionTime\n",
        "if found == 1:\n",
        "        df_final=df_final[df_final.AcquistionTime>MaxAcqTime]\n",
        "        Title = df_final.Title.tolist()\n",
        "        df_final = pd.concat([df_loaded_final,df_final],ignore_index=True)\n",
        "df_final.head(2)"
      ],
      "execution_count": 14,
      "outputs": [
        {
          "output_type": "execute_result",
          "data": {
            "text/html": [
              "<div>\n",
              "<style scoped>\n",
              "    .dataframe tbody tr th:only-of-type {\n",
              "        vertical-align: middle;\n",
              "    }\n",
              "\n",
              "    .dataframe tbody tr th {\n",
              "        vertical-align: top;\n",
              "    }\n",
              "\n",
              "    .dataframe thead th {\n",
              "        text-align: right;\n",
              "    }\n",
              "</style>\n",
              "<table border=\"1\" class=\"dataframe\">\n",
              "  <thead>\n",
              "    <tr style=\"text-align: right;\">\n",
              "      <th></th>\n",
              "      <th>AcquistionTime</th>\n",
              "      <th>App_ID</th>\n",
              "      <th>Category</th>\n",
              "      <th>Content_Rating</th>\n",
              "      <th>Developer</th>\n",
              "      <th>Free</th>\n",
              "      <th>Interactive_Elements</th>\n",
              "      <th>Method</th>\n",
              "      <th>Price</th>\n",
              "      <th>PurchaseTime</th>\n",
              "      <th>ReviewedTime</th>\n",
              "      <th>Size</th>\n",
              "      <th>StarRating</th>\n",
              "      <th>Title</th>\n",
              "      <th>Type</th>\n",
              "      <th>Unnamed: 0</th>\n",
              "      <th>invoicePrice</th>\n",
              "    </tr>\n",
              "  </thead>\n",
              "  <tbody>\n",
              "    <tr>\n",
              "      <th>0</th>\n",
              "      <td>2019-10-14 15:37:32.254000+00:00</td>\n",
              "      <td>com.allenmm.archery</td>\n",
              "      <td>GAME_SPORTS</td>\n",
              "      <td>Everyone</td>\n",
              "      <td>7788`s</td>\n",
              "      <td>True</td>\n",
              "      <td>NaN</td>\n",
              "      <td>NaN</td>\n",
              "      <td>0</td>\n",
              "      <td>NaN</td>\n",
              "      <td>NaN</td>\n",
              "      <td>87M</td>\n",
              "      <td>NaN</td>\n",
              "      <td>Shooting Archery</td>\n",
              "      <td>Android Apps</td>\n",
              "      <td>0.0</td>\n",
              "      <td>NaN</td>\n",
              "    </tr>\n",
              "    <tr>\n",
              "      <th>1</th>\n",
              "      <td>2019-10-14 15:36:18.055000+00:00</td>\n",
              "      <td>com.SPSoftwareProductions.TheRealJuggle</td>\n",
              "      <td>GAME_SPORTS</td>\n",
              "      <td>Everyone</td>\n",
              "      <td>Lion Studios</td>\n",
              "      <td>True</td>\n",
              "      <td>NaN</td>\n",
              "      <td>NaN</td>\n",
              "      <td>0</td>\n",
              "      <td>NaN</td>\n",
              "      <td>NaN</td>\n",
              "      <td>58M</td>\n",
              "      <td>NaN</td>\n",
              "      <td>The Real Juggle - Pro Freestyle Soccer</td>\n",
              "      <td>Android Apps</td>\n",
              "      <td>1.0</td>\n",
              "      <td>NaN</td>\n",
              "    </tr>\n",
              "  </tbody>\n",
              "</table>\n",
              "</div>"
            ],
            "text/plain": [
              "                     AcquistionTime  ... invoicePrice\n",
              "0  2019-10-14 15:37:32.254000+00:00  ...          NaN\n",
              "1  2019-10-14 15:36:18.055000+00:00  ...          NaN\n",
              "\n",
              "[2 rows x 17 columns]"
            ]
          },
          "metadata": {
            "tags": []
          },
          "execution_count": 14
        }
      ]
    },
    {
      "cell_type": "code",
      "metadata": {
        "id": "bPE6Uh8xbOwQ",
        "colab_type": "code",
        "colab": {}
      },
      "source": [
        "App_Title = []\n",
        "Content_Rating = []\n",
        "App_ID = []\n",
        "Size =[]\n",
        "Price = []\n",
        "Free = []\n",
        "Developer =[]\n",
        "Category = []\n",
        "Interactive_Elements = []\n",
        "Acquisition_Time = []\n",
        "for i in range(len(Title)):\n",
        "    try:\n",
        "        string_title = Title[i]\n",
        "        a = play_scraper.search(string_title, page=0, detailed=True)\n",
        "        print(\"No.:\",i,\"Title:\", string_title)\n",
        "        if len(a) == 0:\n",
        "            print(\"no suitable items found for Title:\", string_title)\n",
        "            App_Title.append('None')\n",
        "            Content_Rating.append('None')\n",
        "            App_ID.append('None')\n",
        "            Size.append('None')\n",
        "            Price.append('None')\n",
        "            Free.append('None')\n",
        "            Developer.append('None')\n",
        "            Category.append('None')\n",
        "            Interactive_Elements.append('None')\n",
        "            Acquisition_Time.append(pd.to_datetime(AcquisitionTime[i]))\n",
        "        else:\n",
        "            App_Title.append(a[0].get('title'))\n",
        "            Content_Rating.append(a[0].get('content_rating'))\n",
        "            App_ID.append(a[0].get('app_id'))\n",
        "            Size.append(a[0].get('size'))\n",
        "            Price.append(a[0].get('price'))\n",
        "            Free.append(a[0].get('free'))\n",
        "            Developer.append(a[0].get('developer'))\n",
        "            Category.append(a[0].get('category'))\n",
        "            Interactive_Elements.append(a[0].get('interactive_elements'))\n",
        "            Acquisition_Time.append(pd.to_datetime(AcquisitionTime[i]))\n",
        "            if a[0].get('title') == a[1].get('title'):\n",
        "                print (\"Alternative exists:\")\n",
        "                App_Title.append(a[1].get('title'))\n",
        "                Content_Rating.append(a[1].get('content_rating'))\n",
        "                App_ID.append(a[1].get('app_id'))\n",
        "                Size.append(a[1].get('size'))\n",
        "                Price.append(a[1].get('price'))\n",
        "                Free.append(a[1].get('free'))\n",
        "                Developer.append(a[1].get('developer'))\n",
        "                Category.append(a[1].get('category'))\n",
        "                Interactive_Elements.append(a[1].get('interactive_elements'))\n",
        "                Acquisition_Time.append(pd.to_datetime(AcquisitionTime[i]))\n",
        "            elif a[0].get('title') == a[2].get('title'):\n",
        "                print (\"Alternative exists:\")\n",
        "                App_Title.append(a[2].get('title'))\n",
        "                Content_Rating.append(a[2].get('content_rating'))\n",
        "                App_ID.append(a[2].get('app_id'))\n",
        "                Size.append(a[2].get('size'))\n",
        "                Price.append(a[2].get('price'))\n",
        "                Free.append(a[2].get('free'))\n",
        "                Developer.append(a[2].get('developer'))\n",
        "                Category.append(a[2].get('category'))\n",
        "                Interactive_Elements.append(a[2].get('interactive_elements'))\n",
        "                Acquisition_Time.append(pd.to_datetime(AcquisitionTime[i]))\n",
        "\n",
        "        print(\"Done\")\n",
        "    except:\n",
        "        pass\n",
        "    "
      ],
      "execution_count": 0,
      "outputs": []
    },
    {
      "cell_type": "code",
      "metadata": {
        "id": "bxD2OYT8c6_2",
        "colab_type": "code",
        "outputId": "1f76bac3-dd8d-4b2c-d19d-5eebce2c4f3f",
        "colab": {
          "base_uri": "https://localhost:8080/",
          "height": 216
        }
      },
      "source": [
        "df = pd.DataFrame(list(zip(App_Title, Content_Rating, App_ID, Size, Price, Free, Developer, Category, Interactive_Elements)), \n",
        "               columns =['Title', 'Content_Rating', 'App_ID', 'Size', 'Price', 'Free', 'Developer', 'Category', 'Interactive_Elements']) \n",
        "if len(df>0):\n",
        "    df = df.drop(df[df.Category == 'None'].index)\n",
        "    df['Category'] = df['Category'].apply(', '.join)\n",
        "    df['Content_Rating'] = df['Content_Rating'].apply(', '.join)\n",
        "    pd.concat([pd.Series(row['Category'].split(','))              \n",
        "                    for _, row in df.iterrows()]).reset_index()\n",
        "\n",
        "    df_final=df_final.merge(df, on='Title').reset_index()\n",
        "df_final=df_final[df_final.columns.drop(list(df_final.filter(regex='Unnamed')))]\n",
        "df_final=df_final[df_final.columns.drop(list(df_final.filter(regex='level')))]\n",
        "df_final = df_final.sort_values(by=['AcquistionTime'],ascending=False).reset_index().drop('index',axis=1)\n",
        "\n",
        "df_final.to_csv(f\"Dataframe_GooglePlay_{Name}.csv\")\n",
        "\n",
        "df_final.head(2)"
      ],
      "execution_count": 16,
      "outputs": [
        {
          "output_type": "execute_result",
          "data": {
            "text/html": [
              "<div>\n",
              "<style scoped>\n",
              "    .dataframe tbody tr th:only-of-type {\n",
              "        vertical-align: middle;\n",
              "    }\n",
              "\n",
              "    .dataframe tbody tr th {\n",
              "        vertical-align: top;\n",
              "    }\n",
              "\n",
              "    .dataframe thead th {\n",
              "        text-align: right;\n",
              "    }\n",
              "</style>\n",
              "<table border=\"1\" class=\"dataframe\">\n",
              "  <thead>\n",
              "    <tr style=\"text-align: right;\">\n",
              "      <th></th>\n",
              "      <th>AcquistionTime</th>\n",
              "      <th>App_ID</th>\n",
              "      <th>Category</th>\n",
              "      <th>Content_Rating</th>\n",
              "      <th>Developer</th>\n",
              "      <th>Free</th>\n",
              "      <th>Interactive_Elements</th>\n",
              "      <th>Method</th>\n",
              "      <th>Price</th>\n",
              "      <th>PurchaseTime</th>\n",
              "      <th>ReviewedTime</th>\n",
              "      <th>Size</th>\n",
              "      <th>StarRating</th>\n",
              "      <th>Title</th>\n",
              "      <th>Type</th>\n",
              "      <th>invoicePrice</th>\n",
              "    </tr>\n",
              "  </thead>\n",
              "  <tbody>\n",
              "    <tr>\n",
              "      <th>0</th>\n",
              "      <td>2019-10-14 15:37:32.254000+00:00</td>\n",
              "      <td>com.allenmm.archery</td>\n",
              "      <td>GAME_SPORTS</td>\n",
              "      <td>Everyone</td>\n",
              "      <td>7788`s</td>\n",
              "      <td>True</td>\n",
              "      <td>NaN</td>\n",
              "      <td>NaN</td>\n",
              "      <td>0</td>\n",
              "      <td>NaN</td>\n",
              "      <td>NaN</td>\n",
              "      <td>87M</td>\n",
              "      <td>NaN</td>\n",
              "      <td>Shooting Archery</td>\n",
              "      <td>Android Apps</td>\n",
              "      <td>NaN</td>\n",
              "    </tr>\n",
              "    <tr>\n",
              "      <th>1</th>\n",
              "      <td>2019-10-14 15:36:18.055000+00:00</td>\n",
              "      <td>com.SPSoftwareProductions.TheRealJuggle</td>\n",
              "      <td>GAME_SPORTS</td>\n",
              "      <td>Everyone</td>\n",
              "      <td>Lion Studios</td>\n",
              "      <td>True</td>\n",
              "      <td>NaN</td>\n",
              "      <td>NaN</td>\n",
              "      <td>0</td>\n",
              "      <td>NaN</td>\n",
              "      <td>NaN</td>\n",
              "      <td>58M</td>\n",
              "      <td>NaN</td>\n",
              "      <td>The Real Juggle - Pro Freestyle Soccer</td>\n",
              "      <td>Android Apps</td>\n",
              "      <td>NaN</td>\n",
              "    </tr>\n",
              "  </tbody>\n",
              "</table>\n",
              "</div>"
            ],
            "text/plain": [
              "                     AcquistionTime  ... invoicePrice\n",
              "0  2019-10-14 15:37:32.254000+00:00  ...          NaN\n",
              "1  2019-10-14 15:36:18.055000+00:00  ...          NaN\n",
              "\n",
              "[2 rows x 16 columns]"
            ]
          },
          "metadata": {
            "tags": []
          },
          "execution_count": 16
        }
      ]
    },
    {
      "cell_type": "markdown",
      "metadata": {
        "id": "CgLCjLcWdE0B",
        "colab_type": "text"
      },
      "source": [
        "## Category Analysis :Apps and  Games Sub Category"
      ]
    },
    {
      "cell_type": "code",
      "metadata": {
        "id": "dORDdBg7dNv1",
        "colab_type": "code",
        "outputId": "edc4ba4f-0f53-4733-ea31-2f1cd70aecb4",
        "colab": {
          "base_uri": "https://localhost:8080/",
          "height": 452
        }
      },
      "source": [
        "df_Game= df_final[df_final['Category'].str.contains(\"GAME\")]\n",
        "df_Game[['Game','Type']]=df_Game.pop('Category').str.split('_', n=1, expand=True)\n",
        "df_Game.Type = df_Game.Type.str.split(',')\n",
        "df_Game = df_Game.explode('Type')\n",
        "\n",
        "\n",
        "df_App= df_final[df_final['Category'].str.contains(\"GAME\")==False]\n",
        "df_App.Category = df_App.Category.str.split(',')\n",
        "df_App = df_App.explode('Category')\n",
        "\n",
        "\n",
        "fig, (axs1,axs2) =plt.subplots(1,2, figsize =(15,5))\n",
        "game_cat_list = list(df_Game.Type.unique())\n",
        "df_Game.Type.value_counts().loc[game_cat_list].plot(kind='bar', title=f'Game Category Downloads', ax=axs1)\n",
        "app_cat_list = list(df_App.Category.unique())\n",
        "df_App.Category.value_counts().loc[app_cat_list].plot(kind='bar', title=f'App Category Downloads',ax=axs2)\n",
        "plt.show()"
      ],
      "execution_count": 17,
      "outputs": [
        {
          "output_type": "display_data",
          "data": {
            "image/png": "[encoded data removed]",
            "text/plain": [
              "<Figure size 1080x360 with 2 Axes>"
            ]
          },
          "metadata": {
            "tags": []
          }
        }
      ]
    },
    {
      "cell_type": "code",
      "metadata": {
        "id": "t0fetcWbuoGk",
        "colab_type": "code",
        "colab": {
          "base_uri": "https://localhost:8080/",
          "height": 462
        },
        "outputId": "43d381ef-841a-4641-c0aa-fb62ad766031"
      },
      "source": [
        "df_Game.head()"
      ],
      "execution_count": 20,
      "outputs": [
        {
          "output_type": "execute_result",
          "data": {
            "text/html": [
              "<div>\n",
              "<style scoped>\n",
              "    .dataframe tbody tr th:only-of-type {\n",
              "        vertical-align: middle;\n",
              "    }\n",
              "\n",
              "    .dataframe tbody tr th {\n",
              "        vertical-align: top;\n",
              "    }\n",
              "\n",
              "    .dataframe thead th {\n",
              "        text-align: right;\n",
              "    }\n",
              "</style>\n",
              "<table border=\"1\" class=\"dataframe\">\n",
              "  <thead>\n",
              "    <tr style=\"text-align: right;\">\n",
              "      <th></th>\n",
              "      <th>AcquistionTime</th>\n",
              "      <th>App_ID</th>\n",
              "      <th>Content_Rating</th>\n",
              "      <th>Developer</th>\n",
              "      <th>Free</th>\n",
              "      <th>Interactive_Elements</th>\n",
              "      <th>Method</th>\n",
              "      <th>Price</th>\n",
              "      <th>PurchaseTime</th>\n",
              "      <th>ReviewedTime</th>\n",
              "      <th>Size</th>\n",
              "      <th>StarRating</th>\n",
              "      <th>Title</th>\n",
              "      <th>Type</th>\n",
              "      <th>invoicePrice</th>\n",
              "      <th>Game</th>\n",
              "    </tr>\n",
              "  </thead>\n",
              "  <tbody>\n",
              "    <tr>\n",
              "      <th>0</th>\n",
              "      <td>2019-10-14 15:37:32.254000+00:00</td>\n",
              "      <td>com.allenmm.archery</td>\n",
              "      <td>Everyone</td>\n",
              "      <td>7788`s</td>\n",
              "      <td>True</td>\n",
              "      <td>NaN</td>\n",
              "      <td>NaN</td>\n",
              "      <td>0</td>\n",
              "      <td>NaN</td>\n",
              "      <td>NaN</td>\n",
              "      <td>87M</td>\n",
              "      <td>NaN</td>\n",
              "      <td>Shooting Archery</td>\n",
              "      <td>SPORTS</td>\n",
              "      <td>NaN</td>\n",
              "      <td>GAME</td>\n",
              "    </tr>\n",
              "    <tr>\n",
              "      <th>1</th>\n",
              "      <td>2019-10-14 15:36:18.055000+00:00</td>\n",
              "      <td>com.SPSoftwareProductions.TheRealJuggle</td>\n",
              "      <td>Everyone</td>\n",
              "      <td>Lion Studios</td>\n",
              "      <td>True</td>\n",
              "      <td>NaN</td>\n",
              "      <td>NaN</td>\n",
              "      <td>0</td>\n",
              "      <td>NaN</td>\n",
              "      <td>NaN</td>\n",
              "      <td>58M</td>\n",
              "      <td>NaN</td>\n",
              "      <td>The Real Juggle - Pro Freestyle Soccer</td>\n",
              "      <td>SPORTS</td>\n",
              "      <td>NaN</td>\n",
              "      <td>GAME</td>\n",
              "    </tr>\n",
              "    <tr>\n",
              "      <th>2</th>\n",
              "      <td>2019-10-14 10:42:53.319000+00:00</td>\n",
              "      <td>com.rope.cut</td>\n",
              "      <td>Everyone</td>\n",
              "      <td>SayGames</td>\n",
              "      <td>True</td>\n",
              "      <td>NaN</td>\n",
              "      <td>NaN</td>\n",
              "      <td>0</td>\n",
              "      <td>NaN</td>\n",
              "      <td>NaN</td>\n",
              "      <td>26M</td>\n",
              "      <td>NaN</td>\n",
              "      <td>Rope Slash</td>\n",
              "      <td>PUZZLE</td>\n",
              "      <td>NaN</td>\n",
              "      <td>GAME</td>\n",
              "    </tr>\n",
              "    <tr>\n",
              "      <th>3</th>\n",
              "      <td>2019-10-13 00:27:35.132000+00:00</td>\n",
              "      <td>com.wb.goog.dc.legends</td>\n",
              "      <td>Teen, Violence</td>\n",
              "      <td>Warner Bros. International Enterprises</td>\n",
              "      <td>True</td>\n",
              "      <td>['Digital Purchases']</td>\n",
              "      <td>NaN</td>\n",
              "      <td>0</td>\n",
              "      <td>NaN</td>\n",
              "      <td>NaN</td>\n",
              "      <td>70M</td>\n",
              "      <td>NaN</td>\n",
              "      <td>DC Legends: Battle for Justice</td>\n",
              "      <td>ROLE_PLAYING</td>\n",
              "      <td>NaN</td>\n",
              "      <td>GAME</td>\n",
              "    </tr>\n",
              "    <tr>\n",
              "      <th>4</th>\n",
              "      <td>2019-10-12 22:26:06.213000+00:00</td>\n",
              "      <td>com.pixelfederation.ts2</td>\n",
              "      <td>Everyone</td>\n",
              "      <td>Pixel Federation Games</td>\n",
              "      <td>True</td>\n",
              "      <td>['Digital Purchases']</td>\n",
              "      <td>NaN</td>\n",
              "      <td>0</td>\n",
              "      <td>NaN</td>\n",
              "      <td>NaN</td>\n",
              "      <td>70M</td>\n",
              "      <td>NaN</td>\n",
              "      <td>Train Station 2: Real Train Tycoon Simulator</td>\n",
              "      <td>STRATEGY</td>\n",
              "      <td>NaN</td>\n",
              "      <td>GAME</td>\n",
              "    </tr>\n",
              "  </tbody>\n",
              "</table>\n",
              "</div>"
            ],
            "text/plain": [
              "                     AcquistionTime  ...  Game\n",
              "0  2019-10-14 15:37:32.254000+00:00  ...  GAME\n",
              "1  2019-10-14 15:36:18.055000+00:00  ...  GAME\n",
              "2  2019-10-14 10:42:53.319000+00:00  ...  GAME\n",
              "3  2019-10-13 00:27:35.132000+00:00  ...  GAME\n",
              "4  2019-10-12 22:26:06.213000+00:00  ...  GAME\n",
              "\n",
              "[5 rows x 16 columns]"
            ]
          },
          "metadata": {
            "tags": []
          },
          "execution_count": 20
        }
      ]
    },
    {
      "cell_type": "code",
      "metadata": {
        "id": "k54DjMqyvChU",
        "colab_type": "code",
        "colab": {
          "base_uri": "https://localhost:8080/",
          "height": 326
        },
        "outputId": "1bc6d2c1-ff56-499e-9d9c-31d99a661d10"
      },
      "source": [
        "df_Game[df_Game.AcquistionTime.dt.year==pd.datetime.now().year].Type.value_counts().loc[game_cat_list].plot(kind='bar', title=f'{pd.datetime.now().year}', ax=axs[1,0])"
      ],
      "execution_count": 21,
      "outputs": [
        {
          "output_type": "error",
          "ename": "KeyError",
          "evalue": "ignored",
          "traceback": [
            "\u001b[0;31m---------------------------------------------------------------------------\u001b[0m",
            "\u001b[0;31mKeyError\u001b[0m                                  Traceback (most recent call last)",
            "\u001b[0;32m<ipython-input-21-b2d64d4b4698>\u001b[0m in \u001b[0;36m<module>\u001b[0;34m()\u001b[0m\n\u001b[0;32m----> 1\u001b[0;31m \u001b[0mdf_Game\u001b[0m\u001b[0;34m[\u001b[0m\u001b[0mdf_Game\u001b[0m\u001b[0;34m.\u001b[0m\u001b[0mAcquistionTime\u001b[0m\u001b[0;34m.\u001b[0m\u001b[0mdt\u001b[0m\u001b[0;34m.\u001b[0m\u001b[0myear\u001b[0m\u001b[0;34m==\u001b[0m\u001b[0mpd\u001b[0m\u001b[0;34m.\u001b[0m\u001b[0mdatetime\u001b[0m\u001b[0;34m.\u001b[0m\u001b[0mnow\u001b[0m\u001b[0;34m(\u001b[0m\u001b[0;34m)\u001b[0m\u001b[0;34m.\u001b[0m\u001b[0myear\u001b[0m\u001b[0;34m]\u001b[0m\u001b[0;34m.\u001b[0m\u001b[0mType\u001b[0m\u001b[0;34m.\u001b[0m\u001b[0mvalue_counts\u001b[0m\u001b[0;34m(\u001b[0m\u001b[0;34m)\u001b[0m\u001b[0;34m.\u001b[0m\u001b[0mloc\u001b[0m\u001b[0;34m[\u001b[0m\u001b[0mgame_cat_list\u001b[0m\u001b[0;34m]\u001b[0m\u001b[0;34m.\u001b[0m\u001b[0mplot\u001b[0m\u001b[0;34m(\u001b[0m\u001b[0mkind\u001b[0m\u001b[0;34m=\u001b[0m\u001b[0;34m'bar'\u001b[0m\u001b[0;34m,\u001b[0m \u001b[0mtitle\u001b[0m\u001b[0;34m=\u001b[0m\u001b[0;34mf'{pd.datetime.now().year}'\u001b[0m\u001b[0;34m,\u001b[0m \u001b[0max\u001b[0m\u001b[0;34m=\u001b[0m\u001b[0maxs\u001b[0m\u001b[0;34m[\u001b[0m\u001b[0;36m1\u001b[0m\u001b[0;34m,\u001b[0m\u001b[0;36m0\u001b[0m\u001b[0;34m]\u001b[0m\u001b[0;34m)\u001b[0m\u001b[0;34m\u001b[0m\u001b[0;34m\u001b[0m\u001b[0m\n\u001b[0m",
            "\u001b[0;32m/usr/local/lib/python3.6/dist-packages/pandas/core/indexing.py\u001b[0m in \u001b[0;36m__getitem__\u001b[0;34m(self, key)\u001b[0m\n\u001b[1;32m   1422\u001b[0m \u001b[0;34m\u001b[0m\u001b[0m\n\u001b[1;32m   1423\u001b[0m             \u001b[0mmaybe_callable\u001b[0m \u001b[0;34m=\u001b[0m \u001b[0mcom\u001b[0m\u001b[0;34m.\u001b[0m\u001b[0mapply_if_callable\u001b[0m\u001b[0;34m(\u001b[0m\u001b[0mkey\u001b[0m\u001b[0;34m,\u001b[0m \u001b[0mself\u001b[0m\u001b[0;34m.\u001b[0m\u001b[0mobj\u001b[0m\u001b[0;34m)\u001b[0m\u001b[0;34m\u001b[0m\u001b[0;34m\u001b[0m\u001b[0m\n\u001b[0;32m-> 1424\u001b[0;31m             \u001b[0;32mreturn\u001b[0m \u001b[0mself\u001b[0m\u001b[0;34m.\u001b[0m\u001b[0m_getitem_axis\u001b[0m\u001b[0;34m(\u001b[0m\u001b[0mmaybe_callable\u001b[0m\u001b[0;34m,\u001b[0m \u001b[0maxis\u001b[0m\u001b[0;34m=\u001b[0m\u001b[0maxis\u001b[0m\u001b[0;34m)\u001b[0m\u001b[0;34m\u001b[0m\u001b[0;34m\u001b[0m\u001b[0m\n\u001b[0m\u001b[1;32m   1425\u001b[0m \u001b[0;34m\u001b[0m\u001b[0m\n\u001b[1;32m   1426\u001b[0m     \u001b[0;32mdef\u001b[0m \u001b[0m_is_scalar_access\u001b[0m\u001b[0;34m(\u001b[0m\u001b[0mself\u001b[0m\u001b[0;34m,\u001b[0m \u001b[0mkey\u001b[0m\u001b[0;34m:\u001b[0m \u001b[0mTuple\u001b[0m\u001b[0;34m)\u001b[0m\u001b[0;34m:\u001b[0m\u001b[0;34m\u001b[0m\u001b[0;34m\u001b[0m\u001b[0m\n",
            "\u001b[0;32m/usr/local/lib/python3.6/dist-packages/pandas/core/indexing.py\u001b[0m in \u001b[0;36m_getitem_axis\u001b[0;34m(self, key, axis)\u001b[0m\n\u001b[1;32m   1837\u001b[0m                     \u001b[0;32mraise\u001b[0m \u001b[0mValueError\u001b[0m\u001b[0;34m(\u001b[0m\u001b[0;34m\"Cannot index with multidimensional key\"\u001b[0m\u001b[0;34m)\u001b[0m\u001b[0;34m\u001b[0m\u001b[0;34m\u001b[0m\u001b[0m\n\u001b[1;32m   1838\u001b[0m \u001b[0;34m\u001b[0m\u001b[0m\n\u001b[0;32m-> 1839\u001b[0;31m                 \u001b[0;32mreturn\u001b[0m \u001b[0mself\u001b[0m\u001b[0;34m.\u001b[0m\u001b[0m_getitem_iterable\u001b[0m\u001b[0;34m(\u001b[0m\u001b[0mkey\u001b[0m\u001b[0;34m,\u001b[0m \u001b[0maxis\u001b[0m\u001b[0;34m=\u001b[0m\u001b[0maxis\u001b[0m\u001b[0;34m)\u001b[0m\u001b[0;34m\u001b[0m\u001b[0;34m\u001b[0m\u001b[0m\n\u001b[0m\u001b[1;32m   1840\u001b[0m \u001b[0;34m\u001b[0m\u001b[0m\n\u001b[1;32m   1841\u001b[0m             \u001b[0;31m# nested tuple slicing\u001b[0m\u001b[0;34m\u001b[0m\u001b[0;34m\u001b[0m\u001b[0;34m\u001b[0m\u001b[0m\n",
            "\u001b[0;32m/usr/local/lib/python3.6/dist-packages/pandas/core/indexing.py\u001b[0m in \u001b[0;36m_getitem_iterable\u001b[0;34m(self, key, axis)\u001b[0m\n\u001b[1;32m   1131\u001b[0m         \u001b[0;32melse\u001b[0m\u001b[0;34m:\u001b[0m\u001b[0;34m\u001b[0m\u001b[0;34m\u001b[0m\u001b[0m\n\u001b[1;32m   1132\u001b[0m             \u001b[0;31m# A collection of keys\u001b[0m\u001b[0;34m\u001b[0m\u001b[0;34m\u001b[0m\u001b[0;34m\u001b[0m\u001b[0m\n\u001b[0;32m-> 1133\u001b[0;31m             \u001b[0mkeyarr\u001b[0m\u001b[0;34m,\u001b[0m \u001b[0mindexer\u001b[0m \u001b[0;34m=\u001b[0m \u001b[0mself\u001b[0m\u001b[0;34m.\u001b[0m\u001b[0m_get_listlike_indexer\u001b[0m\u001b[0;34m(\u001b[0m\u001b[0mkey\u001b[0m\u001b[0;34m,\u001b[0m \u001b[0maxis\u001b[0m\u001b[0;34m,\u001b[0m \u001b[0mraise_missing\u001b[0m\u001b[0;34m=\u001b[0m\u001b[0;32mFalse\u001b[0m\u001b[0;34m)\u001b[0m\u001b[0;34m\u001b[0m\u001b[0;34m\u001b[0m\u001b[0m\n\u001b[0m\u001b[1;32m   1134\u001b[0m             return self.obj._reindex_with_indexers(\n\u001b[1;32m   1135\u001b[0m                 \u001b[0;34m{\u001b[0m\u001b[0maxis\u001b[0m\u001b[0;34m:\u001b[0m \u001b[0;34m[\u001b[0m\u001b[0mkeyarr\u001b[0m\u001b[0;34m,\u001b[0m \u001b[0mindexer\u001b[0m\u001b[0;34m]\u001b[0m\u001b[0;34m}\u001b[0m\u001b[0;34m,\u001b[0m \u001b[0mcopy\u001b[0m\u001b[0;34m=\u001b[0m\u001b[0;32mTrue\u001b[0m\u001b[0;34m,\u001b[0m \u001b[0mallow_dups\u001b[0m\u001b[0;34m=\u001b[0m\u001b[0;32mTrue\u001b[0m\u001b[0;34m\u001b[0m\u001b[0;34m\u001b[0m\u001b[0m\n",
            "\u001b[0;32m/usr/local/lib/python3.6/dist-packages/pandas/core/indexing.py\u001b[0m in \u001b[0;36m_get_listlike_indexer\u001b[0;34m(self, key, axis, raise_missing)\u001b[0m\n\u001b[1;32m   1090\u001b[0m \u001b[0;34m\u001b[0m\u001b[0m\n\u001b[1;32m   1091\u001b[0m         self._validate_read_indexer(\n\u001b[0;32m-> 1092\u001b[0;31m             \u001b[0mkeyarr\u001b[0m\u001b[0;34m,\u001b[0m \u001b[0mindexer\u001b[0m\u001b[0;34m,\u001b[0m \u001b[0mo\u001b[0m\u001b[0;34m.\u001b[0m\u001b[0m_get_axis_number\u001b[0m\u001b[0;34m(\u001b[0m\u001b[0maxis\u001b[0m\u001b[0;34m)\u001b[0m\u001b[0;34m,\u001b[0m \u001b[0mraise_missing\u001b[0m\u001b[0;34m=\u001b[0m\u001b[0mraise_missing\u001b[0m\u001b[0;34m\u001b[0m\u001b[0;34m\u001b[0m\u001b[0m\n\u001b[0m\u001b[1;32m   1093\u001b[0m         )\n\u001b[1;32m   1094\u001b[0m         \u001b[0;32mreturn\u001b[0m \u001b[0mkeyarr\u001b[0m\u001b[0;34m,\u001b[0m \u001b[0mindexer\u001b[0m\u001b[0;34m\u001b[0m\u001b[0;34m\u001b[0m\u001b[0m\n",
            "\u001b[0;32m/usr/local/lib/python3.6/dist-packages/pandas/core/indexing.py\u001b[0m in \u001b[0;36m_validate_read_indexer\u001b[0;34m(self, key, indexer, axis, raise_missing)\u001b[0m\n\u001b[1;32m   1175\u001b[0m                 raise KeyError(\n\u001b[1;32m   1176\u001b[0m                     \"None of [{key}] are in the [{axis}]\".format(\n\u001b[0;32m-> 1177\u001b[0;31m                         \u001b[0mkey\u001b[0m\u001b[0;34m=\u001b[0m\u001b[0mkey\u001b[0m\u001b[0;34m,\u001b[0m \u001b[0maxis\u001b[0m\u001b[0;34m=\u001b[0m\u001b[0mself\u001b[0m\u001b[0;34m.\u001b[0m\u001b[0mobj\u001b[0m\u001b[0;34m.\u001b[0m\u001b[0m_get_axis_name\u001b[0m\u001b[0;34m(\u001b[0m\u001b[0maxis\u001b[0m\u001b[0;34m)\u001b[0m\u001b[0;34m\u001b[0m\u001b[0;34m\u001b[0m\u001b[0m\n\u001b[0m\u001b[1;32m   1178\u001b[0m                     )\n\u001b[1;32m   1179\u001b[0m                 )\n",
            "\u001b[0;31mKeyError\u001b[0m: \"None of [Index(['SPORTS', 'PUZZLE', 'ROLE_PLAYING', 'STRATEGY', 'SIMULATION', 'ACTION',\\n       'CASINO', ' FAMILY_PRETEND', 'CASUAL', 'ARCADE', 'ADVENTURE', 'RACING',\\n       ' FAMILY_ACTION', 'CARD'],\\n      dtype='object')] are in the [index]\""
          ]
        }
      ]
    },
    {
      "cell_type": "code",
      "metadata": {
        "id": "8ZnsWlLGdTY3",
        "colab_type": "code",
        "colab": {}
      },
      "source": [
        "#fig =plt.figure()\n",
        "#fig, axs =plt.subplots(2,2, figsize =(15,9))\n",
        "#fig.suptitle('Game Category Downloads            App Category Downloads', fontsize=12, fontweight='bold')\n",
        "#fig.subplots_adjust(top=30.75)\n",
        "#df_Game[df_Game.AcquistionTime.dt.year==pd.datetime.now().year].Type.value_counts().loc[game_cat_list].plot(kind='bar', title=f'{pd.datetime.now().year}', ax=axs[1,0])\n",
        "#df_Game[df_Game.AcquistionTime.dt.year==(pd.datetime.now().year - 1)].Type.value_counts().loc[game_cat_list].plot(kind='bar', title=f'{pd.datetime.now().year - 1}', ax=axs[0,0])\n",
        "\n",
        "\n",
        "#df_App[df_App.AcquistionTime.dt.year==pd.datetime.now().year].Category.value_counts().loc[app_cat_list].plot(kind='bar', title=f'{pd.datetime.now().year}', ax=axs[1,1])\n",
        "#df_App[df_App.AcquistionTime.dt.year==(pd.datetime.now().year-1)].Category.value_counts().loc[app_cat_list].plot(kind='bar', title=f'{pd.datetime.now().year-1}', ax=axs[0,1])\n",
        "\n",
        "#plt.show()\n",
        "#plt.tight_layout()"
      ],
      "execution_count": 0,
      "outputs": []
    },
    {
      "cell_type": "code",
      "metadata": {
        "id": "SCFA-vfKdXTf",
        "colab_type": "code",
        "outputId": "620581ea-9a9c-4286-feee-45bf0b867bb9",
        "colab": {
          "base_uri": "https://localhost:8080/",
          "height": 51
        }
      },
      "source": [
        "print('Favourite App Category: ', df_App.Category.mode()[0])\n",
        "print('Favourite Game Category: ', df_Game.Type.mode()[0])"
      ],
      "execution_count": 23,
      "outputs": [
        {
          "output_type": "stream",
          "text": [
            "Favourite App Category:  TOOLS\n",
            "Favourite Game Category:  ARCADE\n"
          ],
          "name": "stdout"
        }
      ]
    },
    {
      "cell_type": "markdown",
      "metadata": {
        "id": "ty-7qbAbdvl4",
        "colab_type": "text"
      },
      "source": [
        "## Google Play Activity with Time \n",
        "\n",
        "*   ####  By Year\n",
        "\n"
      ]
    },
    {
      "cell_type": "code",
      "metadata": {
        "id": "Bh32totHdrGs",
        "colab_type": "code",
        "outputId": "08c4edc0-59cb-47cd-dddd-6c936e2a243e",
        "colab": {
          "base_uri": "https://localhost:8080/",
          "height": 674
        }
      },
      "source": [
        "fig =plt.figure()\n",
        "fig = plt.subplots(figsize =(6,9))\n",
        "\n",
        "ax1 = plt.subplot2grid((2,2),(0,0))\n",
        "ax2 = plt.subplot2grid((2,2),(0,1))\n",
        "ax3 = plt.subplot2grid((2,2),(1,0), colspan=2)\n",
        "#plt.subplots_adjust(bottom=-0.1, right=0.8, top=0.1)\n",
        "years = list(df_final['AcquistionTime'].dt.year.unique())\n",
        "df_final['AcquistionTime'].dt.year.value_counts().plot(kind='bar', title ='Google Play Activity in different years',ax=ax3,xticks=[])\n",
        "df_App['AcquistionTime'].dt.year.value_counts().loc[years].plot(kind='bar', title ='Apps',ax=ax1)\n",
        "df_Game['AcquistionTime'].dt.year.value_counts().loc[years].plot(kind='bar', title ='Games',ax=ax2)\n",
        "plt.tight_layout()"
      ],
      "execution_count": 24,
      "outputs": [
        {
          "output_type": "display_data",
          "data": {
            "text/plain": [
              "<Figure size 432x288 with 0 Axes>"
            ]
          },
          "metadata": {
            "tags": []
          }
        },
        {
          "output_type": "display_data",
          "data": {
            "image/png": "[encoded data removed]",
            "text/plain": [
              "<Figure size 432x648 with 3 Axes>"
            ]
          },
          "metadata": {
            "tags": []
          }
        }
      ]
    },
    {
      "cell_type": "markdown",
      "metadata": {
        "id": "5RWh5-EJeAhH",
        "colab_type": "text"
      },
      "source": [
        "*   #### By Month"
      ]
    },
    {
      "cell_type": "code",
      "metadata": {
        "id": "QmX7Rb0seFft",
        "colab_type": "code",
        "outputId": "ffb0d46c-1802-4b60-9c3a-b559aa649921",
        "colab": {
          "base_uri": "https://localhost:8080/",
          "height": 674
        }
      },
      "source": [
        "fig =plt.figure()\n",
        "fig = plt.subplots(sharey=True, sharex =True, figsize =(8,9))\n",
        "monthsL = ['Jan', 'Feb', 'Mar', 'Apr', 'May', 'Jun', 'Jul', 'Aug', 'Sep', 'Oct', 'Nov', 'Dec']\n",
        "Month_Total = df_final['AcquistionTime'].dt.month.apply(lambda x: calendar.month_abbr[x])\n",
        "Month_Game = df_Game['AcquistionTime'].dt.month.apply(lambda x: calendar.month_abbr[x])\n",
        "Month_App = df_App['AcquistionTime'].dt.month.apply(lambda x: calendar.month_abbr[x])\n",
        "ax1 = plt.subplot2grid((2,2),(0,0))\n",
        "ax2 = plt.subplot2grid((2,2),(0,1))\n",
        "ax3 = plt.subplot2grid((2,2),(1,0), colspan=2)\n",
        "\n",
        "Month_Total.value_counts().loc[monthsL].plot(kind='bar', title ='Google Play Activity in different Months', ax = ax3)\n",
        "Month_App.value_counts().loc[monthsL].plot(kind='bar', title ='Apps', ax = ax1)\n",
        "Month_Game.value_counts().loc[monthsL].plot(kind='bar', title ='Games', ax = ax2)\n",
        "plt.tight_layout()\n"
      ],
      "execution_count": 25,
      "outputs": [
        {
          "output_type": "display_data",
          "data": {
            "text/plain": [
              "<Figure size 432x288 with 0 Axes>"
            ]
          },
          "metadata": {
            "tags": []
          }
        },
        {
          "output_type": "display_data",
          "data": {
            "image/png": "[encoded data removed]",
            "text/plain": [
              "<Figure size 576x648 with 3 Axes>"
            ]
          },
          "metadata": {
            "tags": []
          }
        }
      ]
    },
    {
      "cell_type": "markdown",
      "metadata": {
        "id": "ropRHWGDeJ6O",
        "colab_type": "text"
      },
      "source": [
        "* #### By Day"
      ]
    },
    {
      "cell_type": "code",
      "metadata": {
        "id": "aIhlU_HCeH-Y",
        "colab_type": "code",
        "outputId": "2e0c01d1-b654-421f-94dd-958b12ef6a8a",
        "colab": {
          "base_uri": "https://localhost:8080/",
          "height": 674
        }
      },
      "source": [
        "fig =plt.figure()\n",
        "fig = plt.subplots(sharey=True, sharex =True, figsize =(8,9))\n",
        "days = ['Monday', 'Tuesday', 'Wednesday', 'Thursday', 'Friday', 'Saturday', 'Sunday']\n",
        "Day_Total = df_final['AcquistionTime'].dt.day_name()\n",
        "Day_Game = df_Game['AcquistionTime'].dt.day_name()\n",
        "Day_App = df_App['AcquistionTime'].dt.day_name()\n",
        "ax1 = plt.subplot2grid((2,2),(0,0))\n",
        "ax2 = plt.subplot2grid((2,2),(0,1))\n",
        "ax3 = plt.subplot2grid((2,2),(1,0), colspan=2)\n",
        "\n",
        "Day_Total.value_counts().loc[days].plot(kind='bar', title ='Google Play Activity in different Days of the week', ax = ax3)\n",
        "Day_App.value_counts().loc[days].plot(kind='bar', title ='Apps', ax = ax1)\n",
        "Day_Game.value_counts().loc[days].plot(kind='bar', title ='Games', ax = ax2)\n",
        "plt.tight_layout()"
      ],
      "execution_count": 26,
      "outputs": [
        {
          "output_type": "display_data",
          "data": {
            "text/plain": [
              "<Figure size 432x288 with 0 Axes>"
            ]
          },
          "metadata": {
            "tags": []
          }
        },
        {
          "output_type": "display_data",
          "data": {
            "image/png": "[encoded data removed]",
            "text/plain": [
              "<Figure size 576x648 with 3 Axes>"
            ]
          },
          "metadata": {
            "tags": []
          }
        }
      ]
    },
    {
      "cell_type": "markdown",
      "metadata": {
        "id": "qSzACPIYeWAh",
        "colab_type": "text"
      },
      "source": [
        "* #### By Quarter of Day"
      ]
    },
    {
      "cell_type": "code",
      "metadata": {
        "id": "B0vM71Aneebi",
        "colab_type": "code",
        "outputId": "354a49fb-3702-41cc-edbb-a137f7fbcc5d",
        "colab": {
          "base_uri": "https://localhost:8080/",
          "height": 674
        }
      },
      "source": [
        "fig =plt.figure()\n",
        "fig = plt.subplots(sharey=True, sharex =True, figsize =(8,9))\n",
        "#days = ['Monday', 'Tuesday', 'Wednesday', 'Thursday', 'Friday', 'Saturday', 'Sunday']\n",
        "\n",
        "Quarter_Total = df_final['AcquistionTime'].dt.quarter\n",
        "\n",
        "Quarter = Quarter_Total.unique()\n",
        "Quarter_Game = df_Game['AcquistionTime'].dt.quarter\n",
        "Quarter_App = df_App['AcquistionTime'].dt.quarter\n",
        "ax1 = plt.subplot2grid((2,2),(0,0))\n",
        "ax2 = plt.subplot2grid((2,2),(0,1))\n",
        "ax3 = plt.subplot2grid((2,2),(1,0), colspan=2)\n",
        "\n",
        "Quarter_Total.value_counts().loc[Quarter].plot(kind='bar', title ='Google Play Activity in different Days of the week', ax = ax3)\n",
        "Quarter_App.value_counts().loc[Quarter].plot(kind='bar', title ='Apps', ax = ax1)\n",
        "Quarter_Game.value_counts().loc[Quarter].plot(kind='bar', title ='Games', ax = ax2)\n",
        "plt.tight_layout()"
      ],
      "execution_count": 27,
      "outputs": [
        {
          "output_type": "display_data",
          "data": {
            "text/plain": [
              "<Figure size 432x288 with 0 Axes>"
            ]
          },
          "metadata": {
            "tags": []
          }
        },
        {
          "output_type": "display_data",
          "data": {
            "image/png": "[encoded data removed]",
            "text/plain": [
              "<Figure size 576x648 with 3 Axes>"
            ]
          },
          "metadata": {
            "tags": []
          }
        }
      ]
    },
    {
      "cell_type": "markdown",
      "metadata": {
        "id": "O1Py6Jp_iNtU",
        "colab_type": "text"
      },
      "source": [
        "## Amount of Data Downloaded"
      ]
    },
    {
      "cell_type": "code",
      "metadata": {
        "id": "nXOQ78xciMu6",
        "colab_type": "code",
        "colab": {}
      },
      "source": [
        "df_Total_Size = pd.DataFrame()\n",
        "df_Total_Size= df_final[['Size','Category','AcquistionTime']]\n",
        "df_Total_Size = df_Total_Size[~df_Total_Size.Size.str.contains(\"Varies\")]\n",
        "def mult_func(value, cond):\n",
        "    multiplier = {'G':1024*1024,'M': 1024, 'k': 1}\n",
        "    return value*multiplier[cond]\n",
        "\n",
        "df_Total_Size['Byte_Value'] = df_Total_Size['Size'].str.strip().str[-1]\n",
        "df_Total_Size['Size'] = df_Total_Size['Size'].str.strip().str[:-1].astype(float)\n",
        "df_Total_Size['Size_Std(kB)'] = df_Total_Size.apply(lambda x: mult_func(x['Size'],x['Byte_Value']),axis=1)\n",
        "\n",
        "df_Game = df_Game[~df_Game.Size.str.contains(\"Varies\")]\n",
        "df_Game['Byte_Value'] = df_Game['Size'].str.strip().str[-1]\n",
        "df_Game['Size'] = df_Game['Size'].str.strip().str[:-1].astype(float)\n",
        "df_Game['Size_Std(kB)'] = df_Game.apply(lambda x: mult_func(x['Size'],x['Byte_Value']),axis=1)\n",
        "\n",
        "df_App = df_App[~df_App.Size.str.contains(\"Varies\")]\n",
        "df_App['Byte_Value'] = df_App['Size'].str.strip().str[-1]\n",
        "df_App['Size'] = df_App['Size'].str.strip().str[:-1].astype(float)\n",
        "df_App['Size_Std(kB)'] = df_App.apply(lambda x: mult_func(x['Size'],x['Byte_Value']),axis=1)\n"
      ],
      "execution_count": 0,
      "outputs": []
    },
    {
      "cell_type": "code",
      "metadata": {
        "id": "IpxHfHxwj3Uu",
        "colab_type": "code",
        "colab": {}
      },
      "source": [
        "Size_Total = df_Total_Size['Size_Std(kB)']\n",
        "Size_Game = df_Game['Size_Std(kB)']\n",
        "Size_App = df_Game['Size_Std(kB)']"
      ],
      "execution_count": 0,
      "outputs": []
    },
    {
      "cell_type": "code",
      "metadata": {
        "id": "gbVFlCFhkGIx",
        "colab_type": "code",
        "outputId": "34da284d-19a9-4d2d-8474-5e8487f1ef34",
        "colab": {
          "base_uri": "https://localhost:8080/",
          "height": 373
        }
      },
      "source": [
        "n_bin = 40\n",
        "fig = plt.figure(figsize = (6,5))\n",
        "gs = gridspec.GridSpec(2,2)\n",
        "ax1 = fig.add_subplot(gs[0])\n",
        "ax2 = fig.add_subplot(gs[1], sharey=ax1, sharex = ax1)\n",
        "ax3 = fig.add_subplot(gs[1,0:], sharey=ax2, sharex = ax2)\n",
        "\n",
        "plt.setp(ax1.get_xticklabels(), visible=True)\n",
        "plt.setp(ax2.get_yticklabels(), visible=False)\n",
        "plt.setp(ax3.get_yticklabels(), visible=True)\n",
        "df_App['Size_Std(kB)'].plot(kind='hist', bins =n_bin, title ='Apps', ax = ax1)\n",
        "df_Game['Size_Std(kB)'].plot(kind='hist', bins =n_bin, title ='Games', ax = ax2)\n",
        "df_Total_Size['Size_Std(kB)'].plot(kind='hist', bins =n_bin, title ='Data Downloaded', ax = ax3)\n",
        "#plt.setp(ax1, title='Test')\n",
        "fig.suptitle('Data Download', size=10)\n",
        "plt.tight_layout()\n",
        "\n",
        "\n",
        "plt.show()"
      ],
      "execution_count": 30,
      "outputs": [
        {
          "output_type": "display_data",
          "data": {
            "image/png": "[encoded data removed]",
            "text/plain": [
              "<Figure size 432x360 with 3 Axes>"
            ]
          },
          "metadata": {
            "tags": []
          }
        }
      ]
    },
    {
      "cell_type": "markdown",
      "metadata": {
        "id": "Cgn5yBD5SIRF",
        "colab_type": "text"
      },
      "source": [
        "### Forecasting Data Usage"
      ]
    },
    {
      "cell_type": "code",
      "metadata": {
        "id": "qkrcxP4gkkY1",
        "colab_type": "code",
        "outputId": "4a66c935-6706-4a0d-92b9-d26abc6b2a34",
        "colab": {
          "base_uri": "https://localhost:8080/",
          "height": 414
        }
      },
      "source": [
        "fig = plt.figure(figsize = (12,5))\n",
        "df_Total_Size.drop_duplicates(subset=['AcquistionTime'], inplace=True)\n",
        "df_TdummyD= df_Total_Size.set_index('AcquistionTime').resample('15D').agg('sum')\n",
        "v_dumm = df_TdummyD['Size_Std(kB)']\n",
        "plt.rcParams.update({'font.size': 15})\n",
        "fig.suptitle('Periodicity-15 Days')\n",
        "v_dumm.plot(figsize=(12, 5))"
      ],
      "execution_count": 31,
      "outputs": [
        {
          "output_type": "execute_result",
          "data": {
            "text/plain": [
              "<matplotlib.axes._subplots.AxesSubplot at 0x7f7f0baf00b8>"
            ]
          },
          "metadata": {
            "tags": []
          },
          "execution_count": 31
        },
        {
          "output_type": "display_data",
          "data": {
            "image/png": "[encoded data removed]",
            "text/plain": [
              "<Figure size 864x360 with 1 Axes>"
            ]
          },
          "metadata": {
            "tags": []
          }
        }
      ]
    },
    {
      "cell_type": "code",
      "metadata": {
        "id": "E77Sk4-kXUdR",
        "colab_type": "code",
        "outputId": "1ed6730b-334f-4f16-f433-9cc37eeaa47b",
        "colab": {
          "base_uri": "https://localhost:8080/",
          "height": 318
        }
      },
      "source": [
        "from pylab import rcParams\n",
        "import statsmodels.api as sm\n",
        "fig = plt.figure(figsize = (12,9))\n",
        "#rcParams['figure.figsize'] = 12, 9\n",
        "decomposition = sm.tsa.seasonal_decompose(v_dumm, model='additive')\n",
        "fig = decomposition.plot()\n",
        "plt.rcParams.update({'font.size': 15})\n",
        "fig.suptitle('Periodicity-15 Days')\n",
        "plt.show()"
      ],
      "execution_count": 32,
      "outputs": [
        {
          "output_type": "display_data",
          "data": {
            "text/plain": [
              "<Figure size 864x648 with 0 Axes>"
            ]
          },
          "metadata": {
            "tags": []
          }
        },
        {
          "output_type": "display_data",
          "data": {
            "image/png": "[encoded data removed]",
            "text/plain": [
              "<Figure size 432x288 with 4 Axes>"
            ]
          },
          "metadata": {
            "tags": []
          }
        }
      ]
    },
    {
      "cell_type": "code",
      "metadata": {
        "id": "3fGCzUCHXceM",
        "colab_type": "code",
        "outputId": "1563b842-6c53-4758-e0e3-c43a34def32c",
        "colab": {
          "base_uri": "https://localhost:8080/",
          "height": 1000
        }
      },
      "source": [
        "#A=B=0\n",
        "import itertools\n",
        "p = d = q = range(0, 3)\n",
        "pdq = list(itertools.product(p, d, q))\n",
        "seasonal_pdq = [(x[1], x[1], x[2], 12) for x in list(itertools.product(p, d, q))]\n",
        "AIC_VAL= 1000.0\n",
        "for param in pdq:\n",
        "    for param_seasonal in seasonal_pdq:\n",
        "        try:\n",
        "            mod = sm.tsa.statespace.SARIMAX(v_dumm,order=param,seasonal_order=param_seasonal,enforce_stationarity=False,enforce_invertibility=False)\n",
        "            results = mod.fit()\n",
        "            if results.aic<= AIC_VAL:\n",
        "                A = param\n",
        "                B = param_seasonal\n",
        "                AIC_VAL = results.aic\n",
        "                #print('ii', param, param_seasonal)\n",
        "            else: \n",
        "                None\n",
        "            print('ARIMA{}x{}12 - AIC:{}'.format(param, param_seasonal, results.aic))\n",
        "        except:\n",
        "            continue\n",
        "print(A,B,AIC_VAL)"
      ],
      "execution_count": 33,
      "outputs": [
        {
          "output_type": "stream",
          "text": [
            "ARIMA(0, 0, 0)x(0, 0, 0, 12)12 - AIC:2090.4215658918456\n",
            "ARIMA(0, 0, 0)x(0, 0, 1, 12)12 - AIC:1763.2613186837266\n",
            "ARIMA(0, 0, 0)x(0, 0, 2, 12)12 - AIC:4744.9335251095035\n",
            "ARIMA(0, 0, 0)x(1, 1, 0, 12)12 - AIC:1459.9363846597137\n",
            "ARIMA(0, 0, 0)x(1, 1, 1, 12)12 - AIC:1437.5549740456943\n",
            "ARIMA(0, 0, 0)x(2, 2, 0, 12)12 - AIC:803.4107693196084\n",
            "ARIMA(0, 0, 0)x(2, 2, 1, 12)12 - AIC:802.3662995403943\n",
            "ARIMA(0, 0, 0)x(0, 0, 0, 12)12 - AIC:2090.4215658918456\n",
            "ARIMA(0, 0, 0)x(0, 0, 1, 12)12 - AIC:1763.2613186837266\n",
            "ARIMA(0, 0, 0)x(0, 0, 2, 12)12 - AIC:4744.9335251095035\n",
            "ARIMA(0, 0, 0)x(1, 1, 0, 12)12 - AIC:1459.9363846597137\n",
            "ARIMA(0, 0, 0)x(1, 1, 1, 12)12 - AIC:1437.5549740456943\n",
            "ARIMA(0, 0, 0)x(2, 2, 0, 12)12 - AIC:803.4107693196084\n",
            "ARIMA(0, 0, 0)x(2, 2, 1, 12)12 - AIC:802.3662995403943\n",
            "ARIMA(0, 0, 0)x(0, 0, 0, 12)12 - AIC:2090.4215658918456\n",
            "ARIMA(0, 0, 0)x(0, 0, 1, 12)12 - AIC:1763.2613186837266\n",
            "ARIMA(0, 0, 0)x(0, 0, 2, 12)12 - AIC:4744.9335251095035\n",
            "ARIMA(0, 0, 0)x(1, 1, 0, 12)12 - AIC:1459.9363846597137\n",
            "ARIMA(0, 0, 0)x(1, 1, 1, 12)12 - AIC:1437.5549740456943\n",
            "ARIMA(0, 0, 0)x(2, 2, 0, 12)12 - AIC:803.4107693196084\n",
            "ARIMA(0, 0, 0)x(2, 2, 1, 12)12 - AIC:802.3662995403943\n",
            "ARIMA(0, 0, 1)x(0, 0, 0, 12)12 - AIC:2052.8456957715916\n",
            "ARIMA(0, 0, 1)x(0, 0, 1, 12)12 - AIC:1729.4270384643726\n",
            "ARIMA(0, 0, 1)x(0, 0, 2, 12)12 - AIC:4607.903490380309\n",
            "ARIMA(0, 0, 1)x(1, 1, 0, 12)12 - AIC:1457.9462584702474\n",
            "ARIMA(0, 0, 1)x(1, 1, 1, 12)12 - AIC:1404.4088530611941\n",
            "ARIMA(0, 0, 1)x(2, 2, 0, 12)12 - AIC:804.3435000461081\n",
            "ARIMA(0, 0, 1)x(2, 2, 1, 12)12 - AIC:805.0992205649727\n",
            "ARIMA(0, 0, 1)x(0, 0, 0, 12)12 - AIC:2052.8456957715916\n",
            "ARIMA(0, 0, 1)x(0, 0, 1, 12)12 - AIC:1729.4270384643726\n",
            "ARIMA(0, 0, 1)x(0, 0, 2, 12)12 - AIC:4607.903490380309\n",
            "ARIMA(0, 0, 1)x(1, 1, 0, 12)12 - AIC:1457.9462584702474\n",
            "ARIMA(0, 0, 1)x(1, 1, 1, 12)12 - AIC:1404.4088530611941\n",
            "ARIMA(0, 0, 1)x(2, 2, 0, 12)12 - AIC:804.3435000461081\n",
            "ARIMA(0, 0, 1)x(2, 2, 1, 12)12 - AIC:805.0992205649727\n",
            "ARIMA(0, 0, 1)x(0, 0, 0, 12)12 - AIC:2052.8456957715916\n",
            "ARIMA(0, 0, 1)x(0, 0, 1, 12)12 - AIC:1729.4270384643726\n",
            "ARIMA(0, 0, 1)x(0, 0, 2, 12)12 - AIC:4607.903490380309\n",
            "ARIMA(0, 0, 1)x(1, 1, 0, 12)12 - AIC:1457.9462584702474\n",
            "ARIMA(0, 0, 1)x(1, 1, 1, 12)12 - AIC:1404.4088530611941\n",
            "ARIMA(0, 0, 1)x(2, 2, 0, 12)12 - AIC:804.3435000461081\n",
            "ARIMA(0, 0, 1)x(2, 2, 1, 12)12 - AIC:805.0992205649727\n",
            "ARIMA(0, 0, 2)x(0, 0, 0, 12)12 - AIC:2023.3544185751173\n",
            "ARIMA(0, 0, 2)x(0, 0, 1, 12)12 - AIC:1702.031699594704\n",
            "ARIMA(0, 0, 2)x(0, 0, 2, 12)12 - AIC:4519.811787450379\n",
            "ARIMA(0, 0, 2)x(1, 1, 0, 12)12 - AIC:1458.1644049941706\n",
            "ARIMA(0, 0, 2)x(1, 1, 1, 12)12 - AIC:1377.1881253470426\n",
            "ARIMA(0, 0, 2)x(2, 2, 0, 12)12 - AIC:805.5640067077425\n",
            "ARIMA(0, 0, 2)x(2, 2, 1, 12)12 - AIC:806.3837640000185\n",
            "ARIMA(0, 0, 2)x(0, 0, 0, 12)12 - AIC:2023.3544185751173\n",
            "ARIMA(0, 0, 2)x(0, 0, 1, 12)12 - AIC:1702.031699594704\n",
            "ARIMA(0, 0, 2)x(0, 0, 2, 12)12 - AIC:4519.811787450379\n",
            "ARIMA(0, 0, 2)x(1, 1, 0, 12)12 - AIC:1458.1644049941706\n",
            "ARIMA(0, 0, 2)x(1, 1, 1, 12)12 - AIC:1377.1881253470426\n",
            "ARIMA(0, 0, 2)x(2, 2, 0, 12)12 - AIC:805.5640067077425\n",
            "ARIMA(0, 0, 2)x(2, 2, 1, 12)12 - AIC:806.3837640000185\n",
            "ARIMA(0, 0, 2)x(0, 0, 0, 12)12 - AIC:2023.3544185751173\n",
            "ARIMA(0, 0, 2)x(0, 0, 1, 12)12 - AIC:1702.031699594704\n",
            "ARIMA(0, 0, 2)x(0, 0, 2, 12)12 - AIC:4519.811787450379\n",
            "ARIMA(0, 0, 2)x(1, 1, 0, 12)12 - AIC:1458.1644049941706\n",
            "ARIMA(0, 0, 2)x(1, 1, 1, 12)12 - AIC:1377.1881253470426\n",
            "ARIMA(0, 0, 2)x(2, 2, 0, 12)12 - AIC:805.5640067077425\n",
            "ARIMA(0, 0, 2)x(2, 2, 1, 12)12 - AIC:806.3837640000185\n",
            "ARIMA(0, 1, 0)x(0, 0, 0, 12)12 - AIC:2061.2333709726818\n",
            "ARIMA(0, 1, 0)x(0, 0, 1, 12)12 - AIC:1743.4424838139373\n",
            "ARIMA(0, 1, 0)x(0, 0, 2, 12)12 - AIC:2068.276883685017\n",
            "ARIMA(0, 1, 0)x(1, 1, 0, 12)12 - AIC:1443.9931245424075\n",
            "ARIMA(0, 1, 0)x(1, 1, 1, 12)12 - AIC:1422.1078066186058\n",
            "ARIMA(0, 1, 0)x(2, 2, 0, 12)12 - AIC:785.034211213834\n",
            "ARIMA(0, 1, 0)x(2, 2, 1, 12)12 - AIC:788.9966422153784\n",
            "ARIMA(0, 1, 0)x(0, 0, 0, 12)12 - AIC:2061.2333709726818\n",
            "ARIMA(0, 1, 0)x(0, 0, 1, 12)12 - AIC:1743.4424838139373\n",
            "ARIMA(0, 1, 0)x(0, 0, 2, 12)12 - AIC:2068.276883685017\n",
            "ARIMA(0, 1, 0)x(1, 1, 0, 12)12 - AIC:1443.9931245424075\n",
            "ARIMA(0, 1, 0)x(1, 1, 1, 12)12 - AIC:1422.1078066186058\n",
            "ARIMA(0, 1, 0)x(2, 2, 0, 12)12 - AIC:785.034211213834\n",
            "ARIMA(0, 1, 0)x(2, 2, 1, 12)12 - AIC:788.9966422153784\n",
            "ARIMA(0, 1, 0)x(0, 0, 0, 12)12 - AIC:2061.2333709726818\n",
            "ARIMA(0, 1, 0)x(0, 0, 1, 12)12 - AIC:1743.4424838139373\n",
            "ARIMA(0, 1, 0)x(0, 0, 2, 12)12 - AIC:2068.276883685017\n",
            "ARIMA(0, 1, 0)x(1, 1, 0, 12)12 - AIC:1443.9931245424075\n",
            "ARIMA(0, 1, 0)x(1, 1, 1, 12)12 - AIC:1422.1078066186058\n",
            "ARIMA(0, 1, 0)x(2, 2, 0, 12)12 - AIC:785.034211213834\n",
            "ARIMA(0, 1, 0)x(2, 2, 1, 12)12 - AIC:788.9966422153784\n",
            "ARIMA(0, 1, 1)x(0, 0, 0, 12)12 - AIC:2004.3233850237318\n",
            "ARIMA(0, 1, 1)x(0, 0, 1, 12)12 - AIC:1688.3896065909819\n",
            "ARIMA(0, 1, 1)x(0, 0, 2, 12)12 - AIC:4568.566478893378\n",
            "ARIMA(0, 1, 1)x(1, 1, 0, 12)12 - AIC:1423.8208432472009\n",
            "ARIMA(0, 1, 1)x(1, 1, 1, 12)12 - AIC:1366.6895765416887\n",
            "ARIMA(0, 1, 1)x(2, 2, 0, 12)12 - AIC:775.417260120151\n",
            "ARIMA(0, 1, 1)x(2, 2, 1, 12)12 - AIC:773.272231566814\n",
            "ARIMA(0, 1, 1)x(0, 0, 0, 12)12 - AIC:2004.3233850237318\n",
            "ARIMA(0, 1, 1)x(0, 0, 1, 12)12 - AIC:1688.3896065909819\n",
            "ARIMA(0, 1, 1)x(0, 0, 2, 12)12 - AIC:4568.566478893378\n",
            "ARIMA(0, 1, 1)x(1, 1, 0, 12)12 - AIC:1423.8208432472009\n",
            "ARIMA(0, 1, 1)x(1, 1, 1, 12)12 - AIC:1366.6895765416887\n",
            "ARIMA(0, 1, 1)x(2, 2, 0, 12)12 - AIC:775.417260120151\n",
            "ARIMA(0, 1, 1)x(2, 2, 1, 12)12 - AIC:773.272231566814\n",
            "ARIMA(0, 1, 1)x(0, 0, 0, 12)12 - AIC:2004.3233850237318\n",
            "ARIMA(0, 1, 1)x(0, 0, 1, 12)12 - AIC:1688.3896065909819\n",
            "ARIMA(0, 1, 1)x(0, 0, 2, 12)12 - AIC:4568.566478893378\n",
            "ARIMA(0, 1, 1)x(1, 1, 0, 12)12 - AIC:1423.8208432472009\n",
            "ARIMA(0, 1, 1)x(1, 1, 1, 12)12 - AIC:1366.6895765416887\n",
            "ARIMA(0, 1, 1)x(2, 2, 0, 12)12 - AIC:775.417260120151\n",
            "ARIMA(0, 1, 1)x(2, 2, 1, 12)12 - AIC:773.272231566814\n",
            "ARIMA(0, 1, 2)x(0, 0, 0, 12)12 - AIC:1980.3091218815107\n",
            "ARIMA(0, 1, 2)x(0, 0, 1, 12)12 - AIC:1663.2785422507475\n",
            "ARIMA(0, 1, 2)x(0, 0, 2, 12)12 - AIC:4482.0618377721985\n",
            "ARIMA(0, 1, 2)x(1, 1, 0, 12)12 - AIC:1426.1549744298127\n",
            "ARIMA(0, 1, 2)x(1, 1, 1, 12)12 - AIC:1342.524159638416\n",
            "ARIMA(0, 1, 2)x(2, 2, 0, 12)12 - AIC:777.2991983392649\n",
            "ARIMA(0, 1, 2)x(2, 2, 1, 12)12 - AIC:775.2472721433663\n",
            "ARIMA(0, 1, 2)x(0, 0, 0, 12)12 - AIC:1980.3091218815107\n",
            "ARIMA(0, 1, 2)x(0, 0, 1, 12)12 - AIC:1663.2785422507475\n",
            "ARIMA(0, 1, 2)x(0, 0, 2, 12)12 - AIC:4482.0618377721985\n",
            "ARIMA(0, 1, 2)x(1, 1, 0, 12)12 - AIC:1426.1549744298127\n",
            "ARIMA(0, 1, 2)x(1, 1, 1, 12)12 - AIC:1342.524159638416\n",
            "ARIMA(0, 1, 2)x(2, 2, 0, 12)12 - AIC:777.2991983392649\n",
            "ARIMA(0, 1, 2)x(2, 2, 1, 12)12 - AIC:775.2472721433663\n",
            "ARIMA(0, 1, 2)x(0, 0, 0, 12)12 - AIC:1980.3091218815107\n",
            "ARIMA(0, 1, 2)x(0, 0, 1, 12)12 - AIC:1663.2785422507475\n",
            "ARIMA(0, 1, 2)x(0, 0, 2, 12)12 - AIC:4482.0618377721985\n",
            "ARIMA(0, 1, 2)x(1, 1, 0, 12)12 - AIC:1426.1549744298127\n",
            "ARIMA(0, 1, 2)x(1, 1, 1, 12)12 - AIC:1342.524159638416\n",
            "ARIMA(0, 1, 2)x(2, 2, 0, 12)12 - AIC:777.2991983392649\n",
            "ARIMA(0, 1, 2)x(2, 2, 1, 12)12 - AIC:775.2472721433663\n",
            "ARIMA(0, 2, 0)x(0, 0, 0, 12)12 - AIC:2111.629006227665\n",
            "ARIMA(0, 2, 0)x(0, 0, 1, 12)12 - AIC:1781.4916557286576\n",
            "ARIMA(0, 2, 0)x(0, 0, 2, 12)12 - AIC:nan\n",
            "ARIMA(0, 2, 0)x(1, 1, 0, 12)12 - AIC:1468.9704364038532\n",
            "ARIMA(0, 2, 0)x(1, 1, 1, 12)12 - AIC:1444.8696048229735\n",
            "ARIMA(0, 2, 0)x(2, 2, 0, 12)12 - AIC:783.2612258991891\n",
            "ARIMA(0, 2, 0)x(2, 2, 1, 12)12 - AIC:787.6956049240306\n",
            "ARIMA(0, 2, 0)x(0, 0, 0, 12)12 - AIC:2111.629006227665\n",
            "ARIMA(0, 2, 0)x(0, 0, 1, 12)12 - AIC:1781.4916557286576\n",
            "ARIMA(0, 2, 0)x(0, 0, 2, 12)12 - AIC:nan\n",
            "ARIMA(0, 2, 0)x(1, 1, 0, 12)12 - AIC:1468.9704364038532\n",
            "ARIMA(0, 2, 0)x(1, 1, 1, 12)12 - AIC:1444.8696048229735\n",
            "ARIMA(0, 2, 0)x(2, 2, 0, 12)12 - AIC:783.2612258991891\n",
            "ARIMA(0, 2, 0)x(2, 2, 1, 12)12 - AIC:787.6956049240306\n",
            "ARIMA(0, 2, 0)x(0, 0, 0, 12)12 - AIC:2111.629006227665\n",
            "ARIMA(0, 2, 0)x(0, 0, 1, 12)12 - AIC:1781.4916557286576\n",
            "ARIMA(0, 2, 0)x(0, 0, 2, 12)12 - AIC:nan\n",
            "ARIMA(0, 2, 0)x(1, 1, 0, 12)12 - AIC:1468.9704364038532\n",
            "ARIMA(0, 2, 0)x(1, 1, 1, 12)12 - AIC:1444.8696048229735\n",
            "ARIMA(0, 2, 0)x(2, 2, 0, 12)12 - AIC:783.2612258991891\n",
            "ARIMA(0, 2, 0)x(2, 2, 1, 12)12 - AIC:787.6956049240306\n",
            "ARIMA(0, 2, 1)x(0, 0, 0, 12)12 - AIC:2007.7991056977733\n",
            "ARIMA(0, 2, 1)x(0, 0, 1, 12)12 - AIC:1685.7671314012314\n",
            "ARIMA(0, 2, 1)x(0, 0, 2, 12)12 - AIC:4407.761349222844\n",
            "ARIMA(0, 2, 1)x(1, 1, 0, 12)12 - AIC:1417.6679825849878\n",
            "ARIMA(0, 2, 1)x(1, 1, 1, 12)12 - AIC:1361.4141780807463\n",
            "ARIMA(0, 2, 1)x(2, 2, 0, 12)12 - AIC:758.6169284338038\n",
            "ARIMA(0, 2, 1)x(2, 2, 1, 12)12 - AIC:760.7338918919563\n",
            "ARIMA(0, 2, 1)x(0, 0, 0, 12)12 - AIC:2007.7991056977733\n",
            "ARIMA(0, 2, 1)x(0, 0, 1, 12)12 - AIC:1685.7671314012314\n",
            "ARIMA(0, 2, 1)x(0, 0, 2, 12)12 - AIC:4407.761349222844\n",
            "ARIMA(0, 2, 1)x(1, 1, 0, 12)12 - AIC:1417.6679825849878\n",
            "ARIMA(0, 2, 1)x(1, 1, 1, 12)12 - AIC:1361.4141780807463\n",
            "ARIMA(0, 2, 1)x(2, 2, 0, 12)12 - AIC:758.6169284338038\n",
            "ARIMA(0, 2, 1)x(2, 2, 1, 12)12 - AIC:760.7338918919563\n",
            "ARIMA(0, 2, 1)x(0, 0, 0, 12)12 - AIC:2007.7991056977733\n",
            "ARIMA(0, 2, 1)x(0, 0, 1, 12)12 - AIC:1685.7671314012314\n",
            "ARIMA(0, 2, 1)x(0, 0, 2, 12)12 - AIC:4407.761349222844\n",
            "ARIMA(0, 2, 1)x(1, 1, 0, 12)12 - AIC:1417.6679825849878\n",
            "ARIMA(0, 2, 1)x(1, 1, 1, 12)12 - AIC:1361.4141780807463\n",
            "ARIMA(0, 2, 1)x(2, 2, 0, 12)12 - AIC:758.6169284338038\n",
            "ARIMA(0, 2, 1)x(2, 2, 1, 12)12 - AIC:760.7338918919563\n",
            "ARIMA(0, 2, 2)x(0, 0, 0, 12)12 - AIC:1966.3375685549656\n",
            "ARIMA(0, 2, 2)x(0, 0, 1, 12)12 - AIC:1642.4333292985348\n",
            "ARIMA(0, 2, 2)x(0, 0, 2, 12)12 - AIC:4324.302754347764\n",
            "ARIMA(0, 2, 2)x(1, 1, 0, 12)12 - AIC:1408.2124408524826\n",
            "ARIMA(0, 2, 2)x(1, 1, 1, 12)12 - AIC:1321.9516592157313\n",
            "ARIMA(0, 2, 2)x(2, 2, 0, 12)12 - AIC:753.9493819020229\n",
            "ARIMA(0, 2, 2)x(2, 2, 1, 12)12 - AIC:753.9620763904281\n",
            "ARIMA(0, 2, 2)x(0, 0, 0, 12)12 - AIC:1966.3375685549656\n",
            "ARIMA(0, 2, 2)x(0, 0, 1, 12)12 - AIC:1642.4333292985348\n",
            "ARIMA(0, 2, 2)x(0, 0, 2, 12)12 - AIC:4324.302754347764\n",
            "ARIMA(0, 2, 2)x(1, 1, 0, 12)12 - AIC:1408.2124408524826\n",
            "ARIMA(0, 2, 2)x(1, 1, 1, 12)12 - AIC:1321.9516592157313\n",
            "ARIMA(0, 2, 2)x(2, 2, 0, 12)12 - AIC:753.9493819020229\n",
            "ARIMA(0, 2, 2)x(2, 2, 1, 12)12 - AIC:753.9620763904281\n",
            "ARIMA(0, 2, 2)x(0, 0, 0, 12)12 - AIC:1966.3375685549656\n",
            "ARIMA(0, 2, 2)x(0, 0, 1, 12)12 - AIC:1642.4333292985348\n",
            "ARIMA(0, 2, 2)x(0, 0, 2, 12)12 - AIC:4324.302754347764\n",
            "ARIMA(0, 2, 2)x(1, 1, 0, 12)12 - AIC:1408.2124408524826\n",
            "ARIMA(0, 2, 2)x(1, 1, 1, 12)12 - AIC:1321.9516592157313\n",
            "ARIMA(0, 2, 2)x(2, 2, 0, 12)12 - AIC:753.9493819020229\n",
            "ARIMA(0, 2, 2)x(2, 2, 1, 12)12 - AIC:753.9620763904281\n",
            "ARIMA(1, 0, 0)x(0, 0, 0, 12)12 - AIC:2070.454391965676\n",
            "ARIMA(1, 0, 0)x(0, 0, 1, 12)12 - AIC:1753.2813037633048\n",
            "ARIMA(1, 0, 0)x(0, 0, 2, 12)12 - AIC:4686.725919216636\n",
            "ARIMA(1, 0, 0)x(1, 1, 0, 12)12 - AIC:1429.488901307239\n",
            "ARIMA(1, 0, 0)x(1, 1, 1, 12)12 - AIC:1428.8493676370244\n",
            "ARIMA(1, 0, 0)x(2, 2, 0, 12)12 - AIC:776.5131840949568\n",
            "ARIMA(1, 0, 0)x(2, 2, 1, 12)12 - AIC:778.0959006338002\n",
            "ARIMA(1, 0, 0)x(0, 0, 0, 12)12 - AIC:2070.454391965676\n",
            "ARIMA(1, 0, 0)x(0, 0, 1, 12)12 - AIC:1753.2813037633048\n",
            "ARIMA(1, 0, 0)x(0, 0, 2, 12)12 - AIC:4686.725919216636\n",
            "ARIMA(1, 0, 0)x(1, 1, 0, 12)12 - AIC:1429.488901307239\n",
            "ARIMA(1, 0, 0)x(1, 1, 1, 12)12 - AIC:1428.8493676370244\n",
            "ARIMA(1, 0, 0)x(2, 2, 0, 12)12 - AIC:776.5131840949568\n",
            "ARIMA(1, 0, 0)x(2, 2, 1, 12)12 - AIC:778.0959006338002\n",
            "ARIMA(1, 0, 0)x(0, 0, 0, 12)12 - AIC:2070.454391965676\n",
            "ARIMA(1, 0, 0)x(0, 0, 1, 12)12 - AIC:1753.2813037633048\n",
            "ARIMA(1, 0, 0)x(0, 0, 2, 12)12 - AIC:4686.725919216636\n",
            "ARIMA(1, 0, 0)x(1, 1, 0, 12)12 - AIC:1429.488901307239\n",
            "ARIMA(1, 0, 0)x(1, 1, 1, 12)12 - AIC:1428.8493676370244\n",
            "ARIMA(1, 0, 0)x(2, 2, 0, 12)12 - AIC:776.5131840949568\n",
            "ARIMA(1, 0, 0)x(2, 2, 1, 12)12 - AIC:778.0959006338002\n",
            "ARIMA(1, 0, 1)x(0, 0, 0, 12)12 - AIC:2026.5179977456978\n",
            "ARIMA(1, 0, 1)x(0, 0, 1, 12)12 - AIC:1711.508923889612\n",
            "ARIMA(1, 0, 1)x(0, 0, 2, 12)12 - AIC:4594.018846324732\n",
            "ARIMA(1, 0, 1)x(1, 1, 0, 12)12 - AIC:1425.6410382309048\n",
            "ARIMA(1, 0, 1)x(1, 1, 1, 12)12 - AIC:1392.1396630798217\n",
            "ARIMA(1, 0, 1)x(2, 2, 0, 12)12 - AIC:776.8438678655743\n",
            "ARIMA(1, 0, 1)x(2, 2, 1, 12)12 - AIC:772.5264340874996\n",
            "ARIMA(1, 0, 1)x(0, 0, 0, 12)12 - AIC:2026.5179977456978\n",
            "ARIMA(1, 0, 1)x(0, 0, 1, 12)12 - AIC:1711.508923889612\n",
            "ARIMA(1, 0, 1)x(0, 0, 2, 12)12 - AIC:4594.018846324732\n",
            "ARIMA(1, 0, 1)x(1, 1, 0, 12)12 - AIC:1425.6410382309048\n",
            "ARIMA(1, 0, 1)x(1, 1, 1, 12)12 - AIC:1392.1396630798217\n",
            "ARIMA(1, 0, 1)x(2, 2, 0, 12)12 - AIC:776.8438678655743\n",
            "ARIMA(1, 0, 1)x(2, 2, 1, 12)12 - AIC:772.5264340874996\n",
            "ARIMA(1, 0, 1)x(0, 0, 0, 12)12 - AIC:2026.5179977456978\n",
            "ARIMA(1, 0, 1)x(0, 0, 1, 12)12 - AIC:1711.508923889612\n",
            "ARIMA(1, 0, 1)x(0, 0, 2, 12)12 - AIC:4594.018846324732\n",
            "ARIMA(1, 0, 1)x(1, 1, 0, 12)12 - AIC:1425.6410382309048\n",
            "ARIMA(1, 0, 1)x(1, 1, 1, 12)12 - AIC:1392.1396630798217\n",
            "ARIMA(1, 0, 1)x(2, 2, 0, 12)12 - AIC:776.8438678655743\n",
            "ARIMA(1, 0, 1)x(2, 2, 1, 12)12 - AIC:772.5264340874996\n",
            "ARIMA(1, 0, 2)x(0, 0, 0, 12)12 - AIC:2001.996216022924\n",
            "ARIMA(1, 0, 2)x(0, 0, 1, 12)12 - AIC:1686.1606331065138\n",
            "ARIMA(1, 0, 2)x(0, 0, 2, 12)12 - AIC:4506.598906857584\n",
            "ARIMA(1, 0, 2)x(1, 1, 0, 12)12 - AIC:1427.4375466690863\n",
            "ARIMA(1, 0, 2)x(1, 1, 1, 12)12 - AIC:1367.121402515742\n",
            "ARIMA(1, 0, 2)x(2, 2, 0, 12)12 - AIC:778.7635958592044\n",
            "ARIMA(1, 0, 2)x(2, 2, 1, 12)12 - AIC:778.4828029350354\n",
            "ARIMA(1, 0, 2)x(0, 0, 0, 12)12 - AIC:2001.996216022924\n",
            "ARIMA(1, 0, 2)x(0, 0, 1, 12)12 - AIC:1686.1606331065138\n",
            "ARIMA(1, 0, 2)x(0, 0, 2, 12)12 - AIC:4506.598906857584\n",
            "ARIMA(1, 0, 2)x(1, 1, 0, 12)12 - AIC:1427.4375466690863\n",
            "ARIMA(1, 0, 2)x(1, 1, 1, 12)12 - AIC:1367.121402515742\n",
            "ARIMA(1, 0, 2)x(2, 2, 0, 12)12 - AIC:778.7635958592044\n",
            "ARIMA(1, 0, 2)x(2, 2, 1, 12)12 - AIC:778.4828029350354\n",
            "ARIMA(1, 0, 2)x(0, 0, 0, 12)12 - AIC:2001.996216022924\n",
            "ARIMA(1, 0, 2)x(0, 0, 1, 12)12 - AIC:1686.1606331065138\n",
            "ARIMA(1, 0, 2)x(0, 0, 2, 12)12 - AIC:4506.598906857584\n",
            "ARIMA(1, 0, 2)x(1, 1, 0, 12)12 - AIC:1427.4375466690863\n",
            "ARIMA(1, 0, 2)x(1, 1, 1, 12)12 - AIC:1367.121402515742\n",
            "ARIMA(1, 0, 2)x(2, 2, 0, 12)12 - AIC:778.7635958592044\n",
            "ARIMA(1, 0, 2)x(2, 2, 1, 12)12 - AIC:778.4828029350354\n",
            "ARIMA(1, 1, 0)x(0, 0, 0, 12)12 - AIC:2047.1690950389939\n",
            "ARIMA(1, 1, 0)x(0, 0, 1, 12)12 - AIC:1728.9451642098375\n",
            "ARIMA(1, 1, 0)x(0, 0, 2, 12)12 - AIC:4667.925393654486\n",
            "ARIMA(1, 1, 0)x(1, 1, 0, 12)12 - AIC:1408.7366849971638\n",
            "ARIMA(1, 1, 0)x(1, 1, 1, 12)12 - AIC:1404.4552946602175\n",
            "ARIMA(1, 1, 0)x(2, 2, 0, 12)12 - AIC:753.7301139986292\n",
            "ARIMA(1, 1, 0)x(2, 2, 1, 12)12 - AIC:751.9892110455849\n",
            "ARIMA(1, 1, 0)x(0, 0, 0, 12)12 - AIC:2047.1690950389939\n",
            "ARIMA(1, 1, 0)x(0, 0, 1, 12)12 - AIC:1728.9451642098375\n",
            "ARIMA(1, 1, 0)x(0, 0, 2, 12)12 - AIC:4667.925393654486\n",
            "ARIMA(1, 1, 0)x(1, 1, 0, 12)12 - AIC:1408.7366849971638\n",
            "ARIMA(1, 1, 0)x(1, 1, 1, 12)12 - AIC:1404.4552946602175\n",
            "ARIMA(1, 1, 0)x(2, 2, 0, 12)12 - AIC:753.7301139986292\n",
            "ARIMA(1, 1, 0)x(2, 2, 1, 12)12 - AIC:751.9892110455849\n",
            "ARIMA(1, 1, 0)x(0, 0, 0, 12)12 - AIC:2047.1690950389939\n",
            "ARIMA(1, 1, 0)x(0, 0, 1, 12)12 - AIC:1728.9451642098375\n",
            "ARIMA(1, 1, 0)x(0, 0, 2, 12)12 - AIC:4667.925393654486\n",
            "ARIMA(1, 1, 0)x(1, 1, 0, 12)12 - AIC:1408.7366849971638\n",
            "ARIMA(1, 1, 0)x(1, 1, 1, 12)12 - AIC:1404.4552946602175\n",
            "ARIMA(1, 1, 0)x(2, 2, 0, 12)12 - AIC:753.7301139986292\n",
            "ARIMA(1, 1, 0)x(2, 2, 1, 12)12 - AIC:751.9892110455849\n",
            "ARIMA(1, 1, 1)x(0, 0, 0, 12)12 - AIC:2005.9211364639796\n",
            "ARIMA(1, 1, 1)x(0, 0, 1, 12)12 - AIC:1690.1760577239434\n",
            "ARIMA(1, 1, 1)x(0, 0, 2, 12)12 - AIC:4569.972696012875\n",
            "ARIMA(1, 1, 1)x(1, 1, 0, 12)12 - AIC:1398.5645832321381\n",
            "ARIMA(1, 1, 1)x(1, 1, 1, 12)12 - AIC:1368.4078142723636\n",
            "ARIMA(1, 1, 1)x(2, 2, 0, 12)12 - AIC:749.6106734766813\n",
            "ARIMA(1, 1, 1)x(2, 2, 1, 12)12 - AIC:747.4094504777714\n",
            "ARIMA(1, 1, 1)x(0, 0, 0, 12)12 - AIC:2005.9211364639796\n",
            "ARIMA(1, 1, 1)x(0, 0, 1, 12)12 - AIC:1690.1760577239434\n",
            "ARIMA(1, 1, 1)x(0, 0, 2, 12)12 - AIC:4569.972696012875\n",
            "ARIMA(1, 1, 1)x(1, 1, 0, 12)12 - AIC:1398.5645832321381\n",
            "ARIMA(1, 1, 1)x(1, 1, 1, 12)12 - AIC:1368.4078142723636\n",
            "ARIMA(1, 1, 1)x(2, 2, 0, 12)12 - AIC:749.6106734766813\n",
            "ARIMA(1, 1, 1)x(2, 2, 1, 12)12 - AIC:747.4094504777714\n",
            "ARIMA(1, 1, 1)x(0, 0, 0, 12)12 - AIC:2005.9211364639796\n",
            "ARIMA(1, 1, 1)x(0, 0, 1, 12)12 - AIC:1690.1760577239434\n",
            "ARIMA(1, 1, 1)x(0, 0, 2, 12)12 - AIC:4569.972696012875\n",
            "ARIMA(1, 1, 1)x(1, 1, 0, 12)12 - AIC:1398.5645832321381\n",
            "ARIMA(1, 1, 1)x(1, 1, 1, 12)12 - AIC:1368.4078142723636\n",
            "ARIMA(1, 1, 1)x(2, 2, 0, 12)12 - AIC:749.6106734766813\n",
            "ARIMA(1, 1, 1)x(2, 2, 1, 12)12 - AIC:747.4094504777714\n",
            "ARIMA(1, 1, 2)x(0, 0, 0, 12)12 - AIC:1982.2105043814588\n",
            "ARIMA(1, 1, 2)x(0, 0, 1, 12)12 - AIC:1665.2840947021134\n",
            "ARIMA(1, 1, 2)x(0, 0, 2, 12)12 - AIC:4483.638448345795\n",
            "ARIMA(1, 1, 2)x(1, 1, 0, 12)12 - AIC:1400.8948522087783\n",
            "ARIMA(1, 1, 2)x(1, 1, 1, 12)12 - AIC:1344.2468479739637\n",
            "ARIMA(1, 1, 2)x(2, 2, 0, 12)12 - AIC:751.4639180251575\n",
            "ARIMA(1, 1, 2)x(2, 2, 1, 12)12 - AIC:749.3131059694833\n",
            "ARIMA(1, 1, 2)x(0, 0, 0, 12)12 - AIC:1982.2105043814588\n",
            "ARIMA(1, 1, 2)x(0, 0, 1, 12)12 - AIC:1665.2840947021134\n",
            "ARIMA(1, 1, 2)x(0, 0, 2, 12)12 - AIC:4483.638448345795\n",
            "ARIMA(1, 1, 2)x(1, 1, 0, 12)12 - AIC:1400.8948522087783\n",
            "ARIMA(1, 1, 2)x(1, 1, 1, 12)12 - AIC:1344.2468479739637\n",
            "ARIMA(1, 1, 2)x(2, 2, 0, 12)12 - AIC:751.4639180251575\n",
            "ARIMA(1, 1, 2)x(2, 2, 1, 12)12 - AIC:749.3131059694833\n",
            "ARIMA(1, 1, 2)x(0, 0, 0, 12)12 - AIC:1982.2105043814588\n",
            "ARIMA(1, 1, 2)x(0, 0, 1, 12)12 - AIC:1665.2840947021134\n",
            "ARIMA(1, 1, 2)x(0, 0, 2, 12)12 - AIC:4483.638448345795\n",
            "ARIMA(1, 1, 2)x(1, 1, 0, 12)12 - AIC:1400.8948522087783\n",
            "ARIMA(1, 1, 2)x(1, 1, 1, 12)12 - AIC:1344.2468479739637\n",
            "ARIMA(1, 1, 2)x(2, 2, 0, 12)12 - AIC:751.4639180251575\n",
            "ARIMA(1, 1, 2)x(2, 2, 1, 12)12 - AIC:749.3131059694833\n",
            "ARIMA(1, 2, 0)x(0, 0, 0, 12)12 - AIC:2074.0349599755255\n",
            "ARIMA(1, 2, 0)x(0, 0, 1, 12)12 - AIC:1746.1999281630685\n",
            "ARIMA(1, 2, 0)x(0, 0, 2, 12)12 - AIC:4518.116779764868\n",
            "ARIMA(1, 2, 0)x(1, 1, 0, 12)12 - AIC:1416.7425941224178\n",
            "ARIMA(1, 2, 0)x(1, 1, 1, 12)12 - AIC:1412.8417251947421\n",
            "ARIMA(1, 2, 0)x(2, 2, 0, 12)12 - AIC:742.9225824416809\n",
            "ARIMA(1, 2, 0)x(2, 2, 1, 12)12 - AIC:742.9332489478284\n",
            "ARIMA(1, 2, 0)x(0, 0, 0, 12)12 - AIC:2074.0349599755255\n",
            "ARIMA(1, 2, 0)x(0, 0, 1, 12)12 - AIC:1746.1999281630685\n",
            "ARIMA(1, 2, 0)x(0, 0, 2, 12)12 - AIC:4518.116779764868\n",
            "ARIMA(1, 2, 0)x(1, 1, 0, 12)12 - AIC:1416.7425941224178\n",
            "ARIMA(1, 2, 0)x(1, 1, 1, 12)12 - AIC:1412.8417251947421\n",
            "ARIMA(1, 2, 0)x(2, 2, 0, 12)12 - AIC:742.9225824416809\n",
            "ARIMA(1, 2, 0)x(2, 2, 1, 12)12 - AIC:742.9332489478284\n",
            "ARIMA(1, 2, 0)x(0, 0, 0, 12)12 - AIC:2074.0349599755255\n",
            "ARIMA(1, 2, 0)x(0, 0, 1, 12)12 - AIC:1746.1999281630685\n",
            "ARIMA(1, 2, 0)x(0, 0, 2, 12)12 - AIC:4518.116779764868\n",
            "ARIMA(1, 2, 0)x(1, 1, 0, 12)12 - AIC:1416.7425941224178\n",
            "ARIMA(1, 2, 0)x(1, 1, 1, 12)12 - AIC:1412.8417251947421\n",
            "ARIMA(1, 2, 0)x(2, 2, 0, 12)12 - AIC:742.9225824416809\n",
            "ARIMA(1, 2, 0)x(2, 2, 1, 12)12 - AIC:742.9332489478284\n",
            "ARIMA(1, 2, 1)x(0, 0, 0, 12)12 - AIC:1997.3742292125712\n",
            "ARIMA(1, 2, 1)x(0, 0, 1, 12)12 - AIC:1675.7659671971671\n",
            "ARIMA(1, 2, 1)x(0, 0, 2, 12)12 - AIC:4407.6395724548\n",
            "ARIMA(1, 2, 1)x(1, 1, 0, 12)12 - AIC:1384.1009930547118\n",
            "ARIMA(1, 2, 1)x(1, 1, 1, 12)12 - AIC:1354.6976927513476\n",
            "ARIMA(1, 2, 1)x(2, 2, 0, 12)12 - AIC:728.2493155098638\n",
            "ARIMA(1, 2, 1)x(2, 2, 1, 12)12 - AIC:727.9413773237015\n",
            "ARIMA(1, 2, 1)x(0, 0, 0, 12)12 - AIC:1997.3742292125712\n",
            "ARIMA(1, 2, 1)x(0, 0, 1, 12)12 - AIC:1675.7659671971671\n",
            "ARIMA(1, 2, 1)x(0, 0, 2, 12)12 - AIC:4407.6395724548\n",
            "ARIMA(1, 2, 1)x(1, 1, 0, 12)12 - AIC:1384.1009930547118\n",
            "ARIMA(1, 2, 1)x(1, 1, 1, 12)12 - AIC:1354.6976927513476\n",
            "ARIMA(1, 2, 1)x(2, 2, 0, 12)12 - AIC:728.2493155098638\n",
            "ARIMA(1, 2, 1)x(2, 2, 1, 12)12 - AIC:727.9413773237015\n",
            "ARIMA(1, 2, 1)x(0, 0, 0, 12)12 - AIC:1997.3742292125712\n",
            "ARIMA(1, 2, 1)x(0, 0, 1, 12)12 - AIC:1675.7659671971671\n",
            "ARIMA(1, 2, 1)x(0, 0, 2, 12)12 - AIC:4407.6395724548\n",
            "ARIMA(1, 2, 1)x(1, 1, 0, 12)12 - AIC:1384.1009930547118\n",
            "ARIMA(1, 2, 1)x(1, 1, 1, 12)12 - AIC:1354.6976927513476\n",
            "ARIMA(1, 2, 1)x(2, 2, 0, 12)12 - AIC:728.2493155098638\n",
            "ARIMA(1, 2, 1)x(2, 2, 1, 12)12 - AIC:727.9413773237015\n",
            "ARIMA(1, 2, 2)x(0, 0, 0, 12)12 - AIC:1966.0267710244843\n",
            "ARIMA(1, 2, 2)x(0, 0, 1, 12)12 - AIC:1642.8609365850912\n",
            "ARIMA(1, 2, 2)x(0, 0, 2, 12)12 - AIC:4323.43238285589\n",
            "ARIMA(1, 2, 2)x(1, 1, 0, 12)12 - AIC:1381.0476876855043\n",
            "ARIMA(1, 2, 2)x(1, 1, 1, 12)12 - AIC:1322.064207811402\n",
            "ARIMA(1, 2, 2)x(2, 2, 0, 12)12 - AIC:726.9827700762887\n",
            "ARIMA(1, 2, 2)x(2, 2, 1, 12)12 - AIC:729.8858111749898\n",
            "ARIMA(1, 2, 2)x(0, 0, 0, 12)12 - AIC:1966.0267710244843\n",
            "ARIMA(1, 2, 2)x(0, 0, 1, 12)12 - AIC:1642.8609365850912\n",
            "ARIMA(1, 2, 2)x(0, 0, 2, 12)12 - AIC:4323.43238285589\n",
            "ARIMA(1, 2, 2)x(1, 1, 0, 12)12 - AIC:1381.0476876855043\n",
            "ARIMA(1, 2, 2)x(1, 1, 1, 12)12 - AIC:1322.064207811402\n",
            "ARIMA(1, 2, 2)x(2, 2, 0, 12)12 - AIC:726.9827700762887\n",
            "ARIMA(1, 2, 2)x(2, 2, 1, 12)12 - AIC:729.8858111749898\n",
            "ARIMA(1, 2, 2)x(0, 0, 0, 12)12 - AIC:1966.0267710244843\n",
            "ARIMA(1, 2, 2)x(0, 0, 1, 12)12 - AIC:1642.8609365850912\n",
            "ARIMA(1, 2, 2)x(0, 0, 2, 12)12 - AIC:4323.43238285589\n",
            "ARIMA(1, 2, 2)x(1, 1, 0, 12)12 - AIC:1381.0476876855043\n",
            "ARIMA(1, 2, 2)x(1, 1, 1, 12)12 - AIC:1322.064207811402\n",
            "ARIMA(1, 2, 2)x(2, 2, 0, 12)12 - AIC:726.9827700762887\n",
            "ARIMA(1, 2, 2)x(2, 2, 1, 12)12 - AIC:729.8858111749898\n",
            "ARIMA(2, 0, 0)x(0, 0, 0, 12)12 - AIC:2040.84246818739\n",
            "ARIMA(2, 0, 0)x(0, 0, 1, 12)12 - AIC:1751.3607830624208\n",
            "ARIMA(2, 0, 0)x(0, 0, 2, 12)12 - AIC:4685.928363457773\n",
            "ARIMA(2, 0, 0)x(1, 1, 0, 12)12 - AIC:1402.9980307550336\n",
            "ARIMA(2, 0, 0)x(1, 1, 1, 12)12 - AIC:1400.9227189706614\n",
            "ARIMA(2, 0, 0)x(2, 2, 0, 12)12 - AIC:750.4604496853273\n",
            "ARIMA(2, 0, 0)x(2, 2, 1, 12)12 - AIC:749.7549623012002\n",
            "ARIMA(2, 0, 0)x(0, 0, 0, 12)12 - AIC:2040.84246818739\n",
            "ARIMA(2, 0, 0)x(0, 0, 1, 12)12 - AIC:1751.3607830624208\n",
            "ARIMA(2, 0, 0)x(0, 0, 2, 12)12 - AIC:4685.928363457773\n",
            "ARIMA(2, 0, 0)x(1, 1, 0, 12)12 - AIC:1402.9980307550336\n",
            "ARIMA(2, 0, 0)x(1, 1, 1, 12)12 - AIC:1400.9227189706614\n",
            "ARIMA(2, 0, 0)x(2, 2, 0, 12)12 - AIC:750.4604496853273\n",
            "ARIMA(2, 0, 0)x(2, 2, 1, 12)12 - AIC:749.7549623012002\n",
            "ARIMA(2, 0, 0)x(0, 0, 0, 12)12 - AIC:2040.84246818739\n",
            "ARIMA(2, 0, 0)x(0, 0, 1, 12)12 - AIC:1751.3607830624208\n",
            "ARIMA(2, 0, 0)x(0, 0, 2, 12)12 - AIC:4685.928363457773\n",
            "ARIMA(2, 0, 0)x(1, 1, 0, 12)12 - AIC:1402.9980307550336\n",
            "ARIMA(2, 0, 0)x(1, 1, 1, 12)12 - AIC:1400.9227189706614\n",
            "ARIMA(2, 0, 0)x(2, 2, 0, 12)12 - AIC:750.4604496853273\n",
            "ARIMA(2, 0, 0)x(2, 2, 1, 12)12 - AIC:749.7549623012002\n",
            "ARIMA(2, 0, 1)x(0, 0, 0, 12)12 - AIC:2027.5468437668019\n",
            "ARIMA(2, 0, 1)x(0, 0, 1, 12)12 - AIC:1712.5755761177827\n",
            "ARIMA(2, 0, 1)x(0, 0, 2, 12)12 - AIC:4595.950971226274\n",
            "ARIMA(2, 0, 1)x(1, 1, 0, 12)12 - AIC:1405.6702626152414\n",
            "ARIMA(2, 0, 1)x(1, 1, 1, 12)12 - AIC:1393.729131313037\n",
            "ARIMA(2, 0, 1)x(2, 2, 0, 12)12 - AIC:751.2226333965624\n",
            "ARIMA(2, 0, 1)x(2, 2, 1, 12)12 - AIC:751.5432626268691\n",
            "ARIMA(2, 0, 1)x(0, 0, 0, 12)12 - AIC:2027.5468437668019\n",
            "ARIMA(2, 0, 1)x(0, 0, 1, 12)12 - AIC:1712.5755761177827\n",
            "ARIMA(2, 0, 1)x(0, 0, 2, 12)12 - AIC:4595.950971226274\n",
            "ARIMA(2, 0, 1)x(1, 1, 0, 12)12 - AIC:1405.6702626152414\n",
            "ARIMA(2, 0, 1)x(1, 1, 1, 12)12 - AIC:1393.729131313037\n",
            "ARIMA(2, 0, 1)x(2, 2, 0, 12)12 - AIC:751.2226333965624\n",
            "ARIMA(2, 0, 1)x(2, 2, 1, 12)12 - AIC:751.5432626268691\n",
            "ARIMA(2, 0, 1)x(0, 0, 0, 12)12 - AIC:2027.5468437668019\n",
            "ARIMA(2, 0, 1)x(0, 0, 1, 12)12 - AIC:1712.5755761177827\n",
            "ARIMA(2, 0, 1)x(0, 0, 2, 12)12 - AIC:4595.950971226274\n",
            "ARIMA(2, 0, 1)x(1, 1, 0, 12)12 - AIC:1405.6702626152414\n",
            "ARIMA(2, 0, 1)x(1, 1, 1, 12)12 - AIC:1393.729131313037\n",
            "ARIMA(2, 0, 1)x(2, 2, 0, 12)12 - AIC:751.2226333965624\n",
            "ARIMA(2, 0, 1)x(2, 2, 1, 12)12 - AIC:751.5432626268691\n",
            "ARIMA(2, 0, 2)x(0, 0, 0, 12)12 - AIC:2003.9263156598997\n",
            "ARIMA(2, 0, 2)x(0, 0, 1, 12)12 - AIC:1688.137195999384\n",
            "ARIMA(2, 0, 2)x(0, 0, 2, 12)12 - AIC:4508.388991010025\n",
            "ARIMA(2, 0, 2)x(1, 1, 0, 12)12 - AIC:1402.780426266587\n",
            "ARIMA(2, 0, 2)x(1, 1, 1, 12)12 - AIC:1365.9860663198492\n",
            "ARIMA(2, 0, 2)x(2, 2, 0, 12)12 - AIC:753.1085245994049\n",
            "ARIMA(2, 0, 2)x(2, 2, 1, 12)12 - AIC:751.539883770352\n",
            "ARIMA(2, 0, 2)x(0, 0, 0, 12)12 - AIC:2003.9263156598997\n",
            "ARIMA(2, 0, 2)x(0, 0, 1, 12)12 - AIC:1688.137195999384\n",
            "ARIMA(2, 0, 2)x(0, 0, 2, 12)12 - AIC:4508.388991010025\n",
            "ARIMA(2, 0, 2)x(1, 1, 0, 12)12 - AIC:1402.780426266587\n",
            "ARIMA(2, 0, 2)x(1, 1, 1, 12)12 - AIC:1365.9860663198492\n",
            "ARIMA(2, 0, 2)x(2, 2, 0, 12)12 - AIC:753.1085245994049\n",
            "ARIMA(2, 0, 2)x(2, 2, 1, 12)12 - AIC:751.539883770352\n",
            "ARIMA(2, 0, 2)x(0, 0, 0, 12)12 - AIC:2003.9263156598997\n",
            "ARIMA(2, 0, 2)x(0, 0, 1, 12)12 - AIC:1688.137195999384\n",
            "ARIMA(2, 0, 2)x(0, 0, 2, 12)12 - AIC:4508.388991010025\n",
            "ARIMA(2, 0, 2)x(1, 1, 0, 12)12 - AIC:1402.780426266587\n",
            "ARIMA(2, 0, 2)x(1, 1, 1, 12)12 - AIC:1365.9860663198492\n",
            "ARIMA(2, 0, 2)x(2, 2, 0, 12)12 - AIC:753.1085245994049\n",
            "ARIMA(2, 0, 2)x(2, 2, 1, 12)12 - AIC:751.539883770352\n",
            "ARIMA(2, 1, 0)x(0, 0, 0, 12)12 - AIC:2016.6218160000249\n",
            "ARIMA(2, 1, 0)x(0, 0, 1, 12)12 - AIC:1726.2644400866266\n",
            "ARIMA(2, 1, 0)x(0, 0, 2, 12)12 - AIC:4666.543964981357\n",
            "ARIMA(2, 1, 0)x(1, 1, 0, 12)12 - AIC:1380.1348104929302\n",
            "ARIMA(2, 1, 0)x(1, 1, 1, 12)12 - AIC:1376.0922636182936\n",
            "ARIMA(2, 1, 0)x(2, 2, 0, 12)12 - AIC:726.667122945699\n",
            "ARIMA(2, 1, 0)x(2, 2, 1, 12)12 - AIC:724.0396123299639\n",
            "ARIMA(2, 1, 0)x(0, 0, 0, 12)12 - AIC:2016.6218160000249\n",
            "ARIMA(2, 1, 0)x(0, 0, 1, 12)12 - AIC:1726.2644400866266\n",
            "ARIMA(2, 1, 0)x(0, 0, 2, 12)12 - AIC:4666.543964981357\n",
            "ARIMA(2, 1, 0)x(1, 1, 0, 12)12 - AIC:1380.1348104929302\n",
            "ARIMA(2, 1, 0)x(1, 1, 1, 12)12 - AIC:1376.0922636182936\n",
            "ARIMA(2, 1, 0)x(2, 2, 0, 12)12 - AIC:726.667122945699\n",
            "ARIMA(2, 1, 0)x(2, 2, 1, 12)12 - AIC:724.0396123299639\n",
            "ARIMA(2, 1, 0)x(0, 0, 0, 12)12 - AIC:2016.6218160000249\n",
            "ARIMA(2, 1, 0)x(0, 0, 1, 12)12 - AIC:1726.2644400866266\n",
            "ARIMA(2, 1, 0)x(0, 0, 2, 12)12 - AIC:4666.543964981357\n",
            "ARIMA(2, 1, 0)x(1, 1, 0, 12)12 - AIC:1380.1348104929302\n",
            "ARIMA(2, 1, 0)x(1, 1, 1, 12)12 - AIC:1376.0922636182936\n",
            "ARIMA(2, 1, 0)x(2, 2, 0, 12)12 - AIC:726.667122945699\n",
            "ARIMA(2, 1, 0)x(2, 2, 1, 12)12 - AIC:724.0396123299639\n",
            "ARIMA(2, 1, 1)x(0, 0, 0, 12)12 - AIC:2012.711131976461\n",
            "ARIMA(2, 1, 1)x(0, 0, 1, 12)12 - AIC:1696.4063799608941\n",
            "ARIMA(2, 1, 1)x(0, 0, 2, 12)12 - AIC:4571.34697066646\n",
            "ARIMA(2, 1, 1)x(1, 1, 0, 12)12 - AIC:1377.6265841297832\n",
            "ARIMA(2, 1, 1)x(1, 1, 1, 12)12 - AIC:1376.3102513345073\n",
            "ARIMA(2, 1, 1)x(2, 2, 0, 12)12 - AIC:724.0645891610487\n",
            "ARIMA(2, 1, 1)x(2, 2, 1, 12)12 - AIC:721.8915648358826\n",
            "ARIMA(2, 1, 1)x(0, 0, 0, 12)12 - AIC:2012.711131976461\n",
            "ARIMA(2, 1, 1)x(0, 0, 1, 12)12 - AIC:1696.4063799608941\n",
            "ARIMA(2, 1, 1)x(0, 0, 2, 12)12 - AIC:4571.34697066646\n",
            "ARIMA(2, 1, 1)x(1, 1, 0, 12)12 - AIC:1377.6265841297832\n",
            "ARIMA(2, 1, 1)x(1, 1, 1, 12)12 - AIC:1376.3102513345073\n",
            "ARIMA(2, 1, 1)x(2, 2, 0, 12)12 - AIC:724.0645891610487\n",
            "ARIMA(2, 1, 1)x(2, 2, 1, 12)12 - AIC:721.8915648358826\n",
            "ARIMA(2, 1, 1)x(0, 0, 0, 12)12 - AIC:2012.711131976461\n",
            "ARIMA(2, 1, 1)x(0, 0, 1, 12)12 - AIC:1696.4063799608941\n",
            "ARIMA(2, 1, 1)x(0, 0, 2, 12)12 - AIC:4571.34697066646\n",
            "ARIMA(2, 1, 1)x(1, 1, 0, 12)12 - AIC:1377.6265841297832\n",
            "ARIMA(2, 1, 1)x(1, 1, 1, 12)12 - AIC:1376.3102513345073\n",
            "ARIMA(2, 1, 1)x(2, 2, 0, 12)12 - AIC:724.0645891610487\n",
            "ARIMA(2, 1, 1)x(2, 2, 1, 12)12 - AIC:721.8915648358826\n",
            "ARIMA(2, 1, 2)x(0, 0, 0, 12)12 - AIC:1984.1328262957054\n",
            "ARIMA(2, 1, 2)x(0, 0, 1, 12)12 - AIC:1667.2221109497973\n",
            "ARIMA(2, 1, 2)x(0, 0, 2, 12)12 - AIC:4485.631769771733\n",
            "ARIMA(2, 1, 2)x(1, 1, 0, 12)12 - AIC:1375.8115248302447\n",
            "ARIMA(2, 1, 2)x(1, 1, 1, 12)12 - AIC:1346.0945300348449\n",
            "ARIMA(2, 1, 2)x(2, 2, 0, 12)12 - AIC:725.5432252628606\n",
            "ARIMA(2, 1, 2)x(2, 2, 1, 12)12 - AIC:728.7904271880922\n",
            "ARIMA(2, 1, 2)x(0, 0, 0, 12)12 - AIC:1984.1328262957054\n",
            "ARIMA(2, 1, 2)x(0, 0, 1, 12)12 - AIC:1667.2221109497973\n",
            "ARIMA(2, 1, 2)x(0, 0, 2, 12)12 - AIC:4485.631769771733\n",
            "ARIMA(2, 1, 2)x(1, 1, 0, 12)12 - AIC:1375.8115248302447\n",
            "ARIMA(2, 1, 2)x(1, 1, 1, 12)12 - AIC:1346.0945300348449\n",
            "ARIMA(2, 1, 2)x(2, 2, 0, 12)12 - AIC:725.5432252628606\n",
            "ARIMA(2, 1, 2)x(2, 2, 1, 12)12 - AIC:728.7904271880922\n",
            "ARIMA(2, 1, 2)x(0, 0, 0, 12)12 - AIC:1984.1328262957054\n",
            "ARIMA(2, 1, 2)x(0, 0, 1, 12)12 - AIC:1667.2221109497973\n",
            "ARIMA(2, 1, 2)x(0, 0, 2, 12)12 - AIC:4485.631769771733\n",
            "ARIMA(2, 1, 2)x(1, 1, 0, 12)12 - AIC:1375.8115248302447\n",
            "ARIMA(2, 1, 2)x(1, 1, 1, 12)12 - AIC:1346.0945300348449\n",
            "ARIMA(2, 1, 2)x(2, 2, 0, 12)12 - AIC:725.5432252628606\n",
            "ARIMA(2, 1, 2)x(2, 2, 1, 12)12 - AIC:728.7904271880922\n",
            "ARIMA(2, 2, 0)x(0, 0, 0, 12)12 - AIC:2034.7696761449438\n",
            "ARIMA(2, 2, 0)x(0, 0, 1, 12)12 - AIC:1736.3155970661692\n",
            "ARIMA(2, 2, 0)x(0, 0, 2, 12)12 - AIC:4511.331732728199\n",
            "ARIMA(2, 2, 0)x(1, 1, 0, 12)12 - AIC:1382.4753829476058\n",
            "ARIMA(2, 2, 0)x(1, 1, 1, 12)12 - AIC:1378.5500172993502\n",
            "ARIMA(2, 2, 0)x(2, 2, 0, 12)12 - AIC:712.7083189109712\n",
            "ARIMA(2, 2, 0)x(2, 2, 1, 12)12 - AIC:711.6318204923659\n",
            "ARIMA(2, 2, 0)x(0, 0, 0, 12)12 - AIC:2034.7696761449438\n",
            "ARIMA(2, 2, 0)x(0, 0, 1, 12)12 - AIC:1736.3155970661692\n",
            "ARIMA(2, 2, 0)x(0, 0, 2, 12)12 - AIC:4511.331732728199\n",
            "ARIMA(2, 2, 0)x(1, 1, 0, 12)12 - AIC:1382.4753829476058\n",
            "ARIMA(2, 2, 0)x(1, 1, 1, 12)12 - AIC:1378.5500172993502\n",
            "ARIMA(2, 2, 0)x(2, 2, 0, 12)12 - AIC:712.7083189109712\n",
            "ARIMA(2, 2, 0)x(2, 2, 1, 12)12 - AIC:711.6318204923659\n",
            "ARIMA(2, 2, 0)x(0, 0, 0, 12)12 - AIC:2034.7696761449438\n",
            "ARIMA(2, 2, 0)x(0, 0, 1, 12)12 - AIC:1736.3155970661692\n",
            "ARIMA(2, 2, 0)x(0, 0, 2, 12)12 - AIC:4511.331732728199\n",
            "ARIMA(2, 2, 0)x(1, 1, 0, 12)12 - AIC:1382.4753829476058\n",
            "ARIMA(2, 2, 0)x(1, 1, 1, 12)12 - AIC:1378.5500172993502\n",
            "ARIMA(2, 2, 0)x(2, 2, 0, 12)12 - AIC:712.7083189109712\n",
            "ARIMA(2, 2, 0)x(2, 2, 1, 12)12 - AIC:711.6318204923659\n",
            "ARIMA(2, 2, 1)x(0, 0, 0, 12)12 - AIC:1994.7574339016596\n",
            "ARIMA(2, 2, 1)x(0, 0, 1, 12)12 - AIC:1673.8333383444456\n",
            "ARIMA(2, 2, 1)x(0, 0, 2, 12)12 - AIC:4408.006680605089\n",
            "ARIMA(2, 2, 1)x(1, 1, 0, 12)12 - AIC:1355.828662354496\n",
            "ARIMA(2, 2, 1)x(1, 1, 1, 12)12 - AIC:1354.0737764102155\n",
            "ARIMA(2, 2, 1)x(2, 2, 0, 12)12 - AIC:701.3179181671464\n",
            "ARIMA(2, 2, 1)x(2, 2, 1, 12)12 - AIC:700.7926221391692\n",
            "ARIMA(2, 2, 1)x(0, 0, 0, 12)12 - AIC:1994.7574339016596\n",
            "ARIMA(2, 2, 1)x(0, 0, 1, 12)12 - AIC:1673.8333383444456\n",
            "ARIMA(2, 2, 1)x(0, 0, 2, 12)12 - AIC:4408.006680605089\n",
            "ARIMA(2, 2, 1)x(1, 1, 0, 12)12 - AIC:1355.828662354496\n",
            "ARIMA(2, 2, 1)x(1, 1, 1, 12)12 - AIC:1354.0737764102155\n",
            "ARIMA(2, 2, 1)x(2, 2, 0, 12)12 - AIC:701.3179181671464\n",
            "ARIMA(2, 2, 1)x(2, 2, 1, 12)12 - AIC:700.7926221391692\n",
            "ARIMA(2, 2, 1)x(0, 0, 0, 12)12 - AIC:1994.7574339016596\n",
            "ARIMA(2, 2, 1)x(0, 0, 1, 12)12 - AIC:1673.8333383444456\n",
            "ARIMA(2, 2, 1)x(0, 0, 2, 12)12 - AIC:4408.006680605089\n",
            "ARIMA(2, 2, 1)x(1, 1, 0, 12)12 - AIC:1355.828662354496\n",
            "ARIMA(2, 2, 1)x(1, 1, 1, 12)12 - AIC:1354.0737764102155\n",
            "ARIMA(2, 2, 1)x(2, 2, 0, 12)12 - AIC:701.3179181671464\n",
            "ARIMA(2, 2, 1)x(2, 2, 1, 12)12 - AIC:700.7926221391692\n",
            "ARIMA(2, 2, 2)x(0, 0, 0, 12)12 - AIC:1967.0891437639839\n",
            "ARIMA(2, 2, 2)x(0, 0, 1, 12)12 - AIC:1644.2265495503725\n",
            "ARIMA(2, 2, 2)x(0, 0, 2, 12)12 - AIC:4324.090610267492\n",
            "ARIMA(2, 2, 2)x(1, 1, 0, 12)12 - AIC:1355.0134600294587\n",
            "ARIMA(2, 2, 2)x(1, 1, 1, 12)12 - AIC:1323.437273555912\n",
            "ARIMA(2, 2, 2)x(2, 2, 0, 12)12 - AIC:700.6624379093564\n",
            "ARIMA(2, 2, 2)x(2, 2, 1, 12)12 - AIC:703.5918022864926\n",
            "ARIMA(2, 2, 2)x(0, 0, 0, 12)12 - AIC:1967.0891437639839\n",
            "ARIMA(2, 2, 2)x(0, 0, 1, 12)12 - AIC:1644.2265495503725\n",
            "ARIMA(2, 2, 2)x(0, 0, 2, 12)12 - AIC:4324.090610267492\n",
            "ARIMA(2, 2, 2)x(1, 1, 0, 12)12 - AIC:1355.0134600294587\n",
            "ARIMA(2, 2, 2)x(1, 1, 1, 12)12 - AIC:1323.437273555912\n",
            "ARIMA(2, 2, 2)x(2, 2, 0, 12)12 - AIC:700.6624379093564\n",
            "ARIMA(2, 2, 2)x(2, 2, 1, 12)12 - AIC:703.5918022864926\n",
            "ARIMA(2, 2, 2)x(0, 0, 0, 12)12 - AIC:1967.0891437639839\n",
            "ARIMA(2, 2, 2)x(0, 0, 1, 12)12 - AIC:1644.2265495503725\n",
            "ARIMA(2, 2, 2)x(0, 0, 2, 12)12 - AIC:4324.090610267492\n",
            "ARIMA(2, 2, 2)x(1, 1, 0, 12)12 - AIC:1355.0134600294587\n",
            "ARIMA(2, 2, 2)x(1, 1, 1, 12)12 - AIC:1323.437273555912\n",
            "ARIMA(2, 2, 2)x(2, 2, 0, 12)12 - AIC:700.6624379093564\n",
            "ARIMA(2, 2, 2)x(2, 2, 1, 12)12 - AIC:703.5918022864926\n",
            "(2, 2, 2) (2, 2, 0, 12) 700.6624379093564\n"
          ],
          "name": "stdout"
        }
      ]
    },
    {
      "cell_type": "code",
      "metadata": {
        "id": "9aONP5ZwXfH4",
        "colab_type": "code",
        "outputId": "ca5aaaef-1e13-4edc-98d9-8e4f7dcdb4a2",
        "colab": {
          "base_uri": "https://localhost:8080/",
          "height": 204
        }
      },
      "source": [
        "mod = sm.tsa.statespace.SARIMAX(v_dumm,\n",
        "                                order=A,\n",
        "                                seasonal_order=B,\n",
        "                                enforce_stationarity=False,\n",
        "                                enforce_invertibility=False)\n",
        "results = mod.fit()\n",
        "print(results.summary().tables[1])"
      ],
      "execution_count": 34,
      "outputs": [
        {
          "output_type": "stream",
          "text": [
            "==============================================================================\n",
            "                 coef    std err          z      P>|z|      [0.025      0.975]\n",
            "------------------------------------------------------------------------------\n",
            "ar.L1          0.0865      0.865      0.100      0.920      -1.608       1.781\n",
            "ar.L2          0.0236      0.788      0.030      0.976      -1.521       1.568\n",
            "ma.L1         -1.8725      0.702     -2.667      0.008      -3.248      -0.497\n",
            "ma.L2          0.8731      0.706      1.237      0.216      -0.511       2.257\n",
            "ar.S.L12      -0.7788      1.990     -0.391      0.696      -4.680       3.122\n",
            "ar.S.L24      -0.4422      2.395     -0.185      0.853      -5.136       4.251\n",
            "sigma2      2.202e+11   1.67e-11   1.32e+22      0.000     2.2e+11     2.2e+11\n",
            "==============================================================================\n"
          ],
          "name": "stdout"
        }
      ]
    },
    {
      "cell_type": "code",
      "metadata": {
        "id": "GrZbxPUdXiZ0",
        "colab_type": "code",
        "outputId": "b1096a7b-2d10-42ef-9e09-cb36498495f4",
        "colab": {
          "base_uri": "https://localhost:8080/",
          "height": 485
        }
      },
      "source": [
        "pred = results.get_prediction(start=df_TdummyD[10:].index.min(), dynamic=True)\n",
        "pred_ci = pred.conf_int()\n",
        "fig, ax =plt.subplots()\n",
        "ax = v_dumm.plot(label='observed')\n",
        "pred.predicted_mean.plot( label='One-step ahead Forecast', alpha=.7, figsize=(14, 7))\n",
        "ax.fill_between(pred_ci.index,\n",
        "                pred_ci.iloc[:, 0],\n",
        "                pred_ci.iloc[:, 1], color='k', alpha=.2)\n",
        "ax.set_xlabel('Date')\n",
        "ax.set_ylabel('Downloaded Google Play Applications')\n",
        "\n",
        "plt.legend()\n",
        "plt.show()"
      ],
      "execution_count": 35,
      "outputs": [
        {
          "output_type": "display_data",
          "data": {
            "image/png": "[encoded data removed]",
            "text/plain": [
              "<Figure size 1008x504 with 1 Axes>"
            ]
          },
          "metadata": {
            "tags": []
          }
        }
      ]
    },
    {
      "cell_type": "code",
      "metadata": {
        "id": "fLbktOcOXkMQ",
        "colab_type": "code",
        "outputId": "4d6f1c71-82d9-4236-ee14-873dcbfd158e",
        "colab": {
          "base_uri": "https://localhost:8080/",
          "height": 485
        }
      },
      "source": [
        "pred_uc = results.get_forecast(steps=18)\n",
        "pred_ci = pred_uc.conf_int()\n",
        "ax = v_dumm.plot(label='Observed', figsize=(14, 7))\n",
        "pred_uc.predicted_mean.plot(ax=ax, label='Forecast')\n",
        "ax.fill_between(pred_ci.index,\n",
        "                pred_ci.iloc[:, 0],\n",
        "                pred_ci.iloc[:, 1], color='k', alpha=.25)\n",
        "ax.set_xlabel('Acquisition Time')\n",
        "ax.set_ylabel('Downloaded Google Play Applications (kB)')\n",
        "plt.rcParams.update({'font.size': 15})\n",
        "fig.suptitle('Forecast')\n",
        "plt.ylim(-2000, ax.get_ylim()[1]) \n",
        "plt.legend()\n",
        "plt.show()"
      ],
      "execution_count": 36,
      "outputs": [
        {
          "output_type": "display_data",
          "data": {
            "image/png": "[encoded data removed]",
            "text/plain": [
              "<Figure size 1008x504 with 1 Axes>"
            ]
          },
          "metadata": {
            "tags": []
          }
        }
      ]
    },
    {
      "cell_type": "code",
      "metadata": {
        "id": "Myw-8S8cVXfO",
        "colab_type": "code",
        "colab": {}
      },
      "source": [
        ""
      ],
      "execution_count": 0,
      "outputs": []
    }
  ]
}